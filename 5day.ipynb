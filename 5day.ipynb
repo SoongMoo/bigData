{
 "cells": [
  {
   "cell_type": "code",
   "execution_count": 5,
   "id": "603ec54e",
   "metadata": {
    "scrolled": true
   },
   "outputs": [
    {
     "name": "stdout",
     "output_type": "stream",
     "text": [
      "[('아버지', 'Noun'), ('가방', 'Noun'), ('에', 'Josa'), ('들어가다', 'Verb'), ('.', 'Punctuation')]\n"
     ]
    }
   ],
   "source": [
    "# KoNLPy하려면 먼저 JDK가 설치되어 있어야 하면 운영체제 환경변수에 JAVA_HOME 환경변수를 만든 후에  \n",
    "# java_jdk가 설치되어 있는 경로를 설정해 준다.\n",
    "# pip install -U \"jpype1<1.1\"\n",
    "# pip install konlpy\n",
    "# pip list : tweepy를 3.7.0 ~3.10.0 사이가 아니면  삭제 후 다시 설치\n",
    "# pip uninstall tweepy\n",
    "# pip install tweepy==3.7.0\n",
    "\n",
    "from konlpy.tag import Okt\n",
    "okt = Okt()\n",
    "# pos()함수는 각 단어 마다의 단어와 단어의 품사를 가져온다.\n",
    "# \n",
    "malist = okt.pos(\"아버지 가방에 들어가신다.\", norm=True, stem=True)\n",
    "print(malist)\n",
    "# norm옵션을 지정하면, ”그래욬ㅋㅋ?“처럼 작성했을 경우 ”그래요“처럼 변환해주며, \n",
    "# stem옵션을 지정하면 ”그렇다“라고 원형을 찾아준다."
   ]
  },
  {
   "cell_type": "code",
   "execution_count": 9,
   "id": "135fa67a",
   "metadata": {},
   "outputs": [
    {
     "name": "stdout",
     "output_type": "stream",
     "text": [
      "것(644) 그(554) 말(485) 안(304) 소리(196) 길(194) 용이(193) 눈(188) 놈(180) 내(174) 사람(167) 봉(165) 치수(160) 평산(160) 얼굴(156) 거(152) 네(151) 일(149) 이(148) 못(147) 댁(141) 생각(141) 때(139) 강청댁(137) 수(134) 서방(131) 집(131) 나(122) 더(120) 서희(119) 머(116) 어디(112) 마을(111) 최(110) 년(109) 김(99) 칠성(97) 구천이(96) 니(96) 뒤(91) 제(90) 날(90) 아이(88) 하나(84) 녀(83) 두(83) 참판(82) 월(82) 손(81) 임(79) \n"
     ]
    }
   ],
   "source": [
    "# http://ithub.korean.go.kr/user/total/database/corpusManager.db 는 주소가 변경되어 사용할 수 없다.\n",
    "# 말뭉치를 사용하기 위해서는 회원가입을 해야 한다.\n",
    "# github에 있는 BEXX0003.txt를 사용하면 된다.\n",
    "\n",
    "# 출현 빈도수 가져오기.\n",
    "import codecs\n",
    "from bs4 import BeautifulSoup\n",
    "from konlpy.tag import Okt \n",
    "# utf-16 인코딩으로 파일을 열고 글자를 출력하기 --- (※1)\n",
    "fp = codecs.open(\"BEXX0003.txt\", \"r\", encoding=\"utf-16\")\n",
    "soup = BeautifulSoup(fp, \"html.parser\")\n",
    "body = soup.select_one(\"body > text\")\n",
    "text = body.getText()\n",
    "# 텍스트를 한 줄씩 처리하기 --- (※2)\n",
    "twitter = Okt()\n",
    "word_dic = {}\n",
    "lines = text.split(\"\\n\")\n",
    "for line in lines:\n",
    "    malist = twitter.pos(line) \n",
    "    '''\n",
    "    [('제', 'Noun'), ('1', 'Number'), ('편', 'Noun'), ('어둠', 'Noun'), \n",
    "    ('의', 'Josa'), ('발', 'Noun'), ('소리', 'Noun')]\n",
    "    '''\n",
    "    for word in malist:\n",
    "        if word[1] == \"Noun\": #  명사 확인하기 --- (※3)\n",
    "            if not (word[0] in word_dic):\n",
    "                word_dic[word[0]] = 0\n",
    "            word_dic[word[0]] += 1 # 카운트하기\n",
    "# 많이 사용된 명사 출력하기 --- (※4)\n",
    "keys = sorted(word_dic.items(), key=lambda x:x[1], reverse=True)\n",
    "for word, count in keys[:50]: #상위 50개만 \n",
    "    print(\"{0}({1}) \".format(word, count), end=\"\")\n",
    "print()"
   ]
  },
  {
   "cell_type": "code",
   "execution_count": 17,
   "id": "b78cf43d",
   "metadata": {},
   "outputs": [
    {
     "name": "stdout",
     "output_type": "stream",
     "text": [
      "ok\n"
     ]
    }
   ],
   "source": [
    "# pip install gensim\n",
    "\n",
    "import codecs\n",
    "from bs4 import BeautifulSoup\n",
    "from konlpy.tag import Okt\n",
    "from gensim.models import word2vec\n",
    "# utf-16 인코딩으로 파일을 열고 글자를 출력하기 --- (※1)\n",
    "fp = codecs.open(\"BEXX0003.txt\", \"r\", encoding=\"utf-16\")\n",
    "soup = BeautifulSoup(fp, \"html.parser\")\n",
    "body = soup.select_one(\"body > text\")\n",
    "text = body.getText()\n",
    "# 텍스트를 한 줄씩 처리하기 --- (※2)\n",
    "twitter = Okt()\n",
    "results = []\n",
    "lines = text.split(\"\\r\\n\")\n",
    "for line in lines:\n",
    "    # 형태소 분석하기 --- (※3)\n",
    "    # 단어의 기본형 사용\n",
    "    malist = twitter.pos(line, norm=True, stem=True)\n",
    "    r = []\n",
    "    for word in malist:\n",
    "        # 어미/조사/구두점 등은 대상에서 제외 \n",
    "        if not word[1] in [\"Josa\", \"Eomi\", \"Punctuation\"]:\n",
    "            r.append(word[0])\n",
    "    rl = (\" \".join(r)).strip()\n",
    "    results.append(rl)\n",
    "#print(r)\n",
    "#print(results)\n",
    "\n",
    "# 파일로 출력하기  --- (※4)\n",
    "gubun_file = 'toji.gubun'\n",
    "with open(gubun_file, 'w', encoding='utf-8') as fp:\n",
    "    fp.write(\"\\n\".join(results))\n",
    "# Word2Vec 모델 만들기 --- (※5) \n",
    "data = word2vec.LineSentence(gubun_file)\n",
    "model = word2vec.Word2Vec(data, \n",
    "    vector_size=200, window=10, hs=1, min_count=2, sg=1)\n",
    "model.save(\"toji.model\")\n",
    "print(\"ok\")"
   ]
  },
  {
   "cell_type": "code",
   "execution_count": 8,
   "id": "781721ae",
   "metadata": {},
   "outputs": [
    {
     "name": "stdout",
     "output_type": "stream",
     "text": [
      "[('석', 0.8743858933448792), ('꾼', 0.8570003509521484), ('우쩌겄소', 0.8550451993942261), ('은덕', 0.8535826802253723), ('사흘', 0.8513904809951782), ('치우다', 0.8513583540916443), ('작정', 0.8426470160484314), ('보름', 0.8398447036743164), ('문전', 0.8397486209869385), ('원귀', 0.839531660079956)]\n"
     ]
    }
   ],
   "source": [
    "from gensim.models import word2vec \n",
    "# 베이지안 필터를 이용하기 위한 모델 생성\n",
    "model = word2vec.Word2Vec.load(\"toji.model\")\n",
    "# 베이지 필터를 이용해서 땅에 관련된 내용만 가지고 옴.\n",
    "print(model.wv.most_similar(positive=[\"땅\"])) "
   ]
  },
  {
   "cell_type": "code",
   "execution_count": 9,
   "id": "097d1b71",
   "metadata": {},
   "outputs": [
    {
     "name": "stdout",
     "output_type": "stream",
     "text": [
      "[('제', 0.7706013917922974), ('구석', 0.7685752511024475), ('남정', 0.7271589636802673), ('그까짓', 0.7261282801628113), ('말짱', 0.718261182308197), ('마침', 0.7125808000564575), ('매', 0.7119995355606079), ('사나', 0.7092111706733704), ('이지마', 0.707752525806427), ('우리', 0.7048901319503784)]\n"
     ]
    }
   ],
   "source": [
    "from gensim.models import word2vec\n",
    "model = word2vec.Word2Vec.load(\"toji.model\")\n",
    "print(model.wv.most_similar(positive=[\"집\"]))"
   ]
  },
  {
   "attachments": {
    "image.png": {
     "image/png": "[encoded data removed]"
    }
   },
   "cell_type": "markdown",
   "id": "0c5c2b07",
   "metadata": {},
   "source": [
    "# 루비 설치\n",
    "https://rubyinstaller.org/downloads/\n",
    "\n",
    "![image.png](attachment:image.png)\n",
    "\n",
    "루비를 다운로드 받아 설치한다. 설치 후 프롬프트에서 아래 명령을 실행\n",
    "\n",
    "wp2txt를 설치한다. ( 맥  사용자는 여기부터  )\n",
    "\n",
    "c:> gem install wp2txt\n",
    "\n",
    "xml파일을 txt로 변환한다.\n",
    "\n",
    "c:> wp2txt --input-file ./kowiki-latest-pages-articles.xml\n",
    "\n",
    "여러개의 텍스트 파일을 하나로 합친다.powersheell에서는 프롬프트에서 cmd명령을 치고 해야 한다.\n",
    "\n",
    "c:> copy kowiki-latest-pages-articles-*.txt  wiki.txt"
   ]
  },
  {
   "cell_type": "code",
   "execution_count": 26,
   "id": "4fb12866",
   "metadata": {},
   "outputs": [
    {
     "name": "stdout",
     "output_type": "stream",
     "text": [
      "current - 0\n",
      "current - 20000\n",
      "current - 40000\n",
      "current - 60000\n",
      "current - 80000\n",
      "current - 100000\n",
      "current - 120000\n",
      "current - 140000\n",
      "current - 160000\n",
      "current - 180000\n",
      "current - 200000\n",
      "current - 220000\n",
      "current - 240000\n",
      "current - 260000\n",
      "current - 280000\n",
      "current - 300000\n",
      "current - 320000\n",
      "current - 340000\n",
      "current - 360000\n",
      "current - 380000\n",
      "current - 400000\n",
      "current - 420000\n",
      "current - 440000\n",
      "current - 460000\n",
      "current - 480000\n",
      "current - 500000\n",
      "current - 520000\n",
      "current - 540000\n",
      "current - 560000\n",
      "current - 580000\n",
      "current - 600000\n",
      "current - 620000\n",
      "current - 640000\n",
      "current - 660000\n",
      "current - 680000\n",
      "current - 700000\n",
      "current - 720000\n",
      "current - 740000\n",
      "current - 760000\n",
      "current - 780000\n",
      "current - 800000\n",
      "current - 820000\n",
      "current - 840000\n",
      "current - 860000\n",
      "current - 880000\n",
      "current - 900000\n",
      "current - 920000\n",
      "current - 940000\n",
      "current - 960000\n",
      "current - 980000\n",
      "current - 1000000\n",
      "current - 1020000\n",
      "current - 1040000\n",
      "current - 1060000\n",
      "current - 1080000\n",
      "current - 1100000\n",
      "current - 1120000\n",
      "current - 1140000\n",
      "current - 1160000\n",
      "current - 1180000\n",
      "current - 1200000\n",
      "current - 1220000\n",
      "current - 1240000\n",
      "current - 1260000\n",
      "current - 1280000\n",
      "current - 1300000\n",
      "current - 1320000\n",
      "current - 1340000\n",
      "current - 1360000\n",
      "current - 1380000\n",
      "current - 1400000\n",
      "current - 1420000\n",
      "current - 1440000\n",
      "current - 1460000\n",
      "current - 1480000\n",
      "current - 1500000\n",
      "current - 1520000\n",
      "current - 1540000\n",
      "current - 1560000\n",
      "current - 1580000\n",
      "current - 1600000\n",
      "current - 1620000\n",
      "current - 1640000\n",
      "current - 1660000\n",
      "current - 1680000\n",
      "current - 1700000\n",
      "current - 1720000\n",
      "current - 1740000\n",
      "current - 1760000\n",
      "current - 1780000\n",
      "current - 1800000\n",
      "current - 1820000\n",
      "current - 1840000\n",
      "current - 1860000\n",
      "current - 1880000\n",
      "current - 1900000\n",
      "current - 1920000\n",
      "current - 1940000\n",
      "current - 1960000\n",
      "current - 1980000\n",
      "current - 2000000\n",
      "current - 2020000\n",
      "current - 2040000\n",
      "current - 2060000\n",
      "current - 2080000\n",
      "current - 2100000\n",
      "current - 2120000\n",
      "current - 2140000\n",
      "current - 2160000\n",
      "current - 2180000\n",
      "current - 2200000\n",
      "current - 2220000\n",
      "current - 2240000\n",
      "current - 2260000\n",
      "current - 2280000\n",
      "current - 2300000\n",
      "current - 2320000\n",
      "current - 2340000\n",
      "current - 2360000\n",
      "current - 2380000\n",
      "current - 2400000\n",
      "current - 2420000\n",
      "current - 2440000\n",
      "current - 2460000\n",
      "current - 2480000\n",
      "current - 2500000\n",
      "current - 2520000\n",
      "current - 2540000\n",
      "current - 2560000\n",
      "current - 2580000\n",
      "current - 2600000\n",
      "current - 2620000\n",
      "current - 2640000\n",
      "current - 2660000\n",
      "current - 2680000\n",
      "current - 2700000\n",
      "current - 2720000\n"
     ]
    },
    {
     "ename": "UnicodeDecodeError",
     "evalue": "'utf-8' codec can't decode byte 0xed in position 20: invalid continuation byte",
     "output_type": "error",
     "traceback": [
      "\u001b[1;31m---------------------------------------------------------------------------\u001b[0m",
      "\u001b[1;31mUnicodeDecodeError\u001b[0m                        Traceback (most recent call last)",
      "\u001b[1;32m~\\AppData\\Local\\Temp/ipykernel_5620/2223533374.py\u001b[0m in \u001b[0;36m<module>\u001b[1;34m\u001b[0m\n\u001b[0;32m     19\u001b[0m     \u001b[0mi\u001b[0m \u001b[1;33m+=\u001b[0m \u001b[1;36m1\u001b[0m\u001b[1;33m\u001b[0m\u001b[1;33m\u001b[0m\u001b[0m\n\u001b[0;32m     20\u001b[0m     \u001b[1;31m# 형태소 분석\u001b[0m\u001b[1;33m\u001b[0m\u001b[1;33m\u001b[0m\u001b[1;33m\u001b[0m\u001b[0m\n\u001b[1;32m---> 21\u001b[1;33m     \u001b[0mmalist\u001b[0m \u001b[1;33m=\u001b[0m \u001b[0mtwitter\u001b[0m\u001b[1;33m.\u001b[0m\u001b[0mpos\u001b[0m\u001b[1;33m(\u001b[0m\u001b[0mline\u001b[0m\u001b[1;33m,\u001b[0m \u001b[0mnorm\u001b[0m\u001b[1;33m=\u001b[0m\u001b[1;32mTrue\u001b[0m\u001b[1;33m,\u001b[0m \u001b[0mstem\u001b[0m\u001b[1;33m=\u001b[0m\u001b[1;32mTrue\u001b[0m\u001b[1;33m)\u001b[0m\u001b[1;33m\u001b[0m\u001b[1;33m\u001b[0m\u001b[0m\n\u001b[0m\u001b[0;32m     22\u001b[0m     \u001b[1;31m# 필요한 어구만 대상으로 하기\u001b[0m\u001b[1;33m\u001b[0m\u001b[1;33m\u001b[0m\u001b[1;33m\u001b[0m\u001b[0m\n\u001b[0;32m     23\u001b[0m     \u001b[0mr\u001b[0m \u001b[1;33m=\u001b[0m \u001b[1;33m[\u001b[0m\u001b[1;33m]\u001b[0m\u001b[1;33m\u001b[0m\u001b[1;33m\u001b[0m\u001b[0m\n",
      "\u001b[1;32mc:\\users\\user\\appdata\\local\\programs\\python\\python38\\lib\\site-packages\\konlpy\\tag\\_okt.py\u001b[0m in \u001b[0;36mpos\u001b[1;34m(self, phrase, norm, stem, join)\u001b[0m\n\u001b[0;32m     65\u001b[0m             \u001b[1;32mreturn\u001b[0m \u001b[1;33m[\u001b[0m\u001b[0mt\u001b[0m \u001b[1;32mfor\u001b[0m \u001b[0mt\u001b[0m \u001b[1;32min\u001b[0m \u001b[0mtokens\u001b[0m\u001b[1;33m]\u001b[0m\u001b[1;33m\u001b[0m\u001b[1;33m\u001b[0m\u001b[0m\n\u001b[0;32m     66\u001b[0m         \u001b[1;32melse\u001b[0m\u001b[1;33m:\u001b[0m\u001b[1;33m\u001b[0m\u001b[1;33m\u001b[0m\u001b[0m\n\u001b[1;32m---> 67\u001b[1;33m             \u001b[1;32mreturn\u001b[0m \u001b[1;33m[\u001b[0m\u001b[0mtuple\u001b[0m\u001b[1;33m(\u001b[0m\u001b[0mt\u001b[0m\u001b[1;33m.\u001b[0m\u001b[0mrsplit\u001b[0m\u001b[1;33m(\u001b[0m\u001b[1;34m'/'\u001b[0m\u001b[1;33m,\u001b[0m \u001b[1;36m1\u001b[0m\u001b[1;33m)\u001b[0m\u001b[1;33m)\u001b[0m \u001b[1;32mfor\u001b[0m \u001b[0mt\u001b[0m \u001b[1;32min\u001b[0m \u001b[0mtokens\u001b[0m\u001b[1;33m]\u001b[0m\u001b[1;33m\u001b[0m\u001b[1;33m\u001b[0m\u001b[0m\n\u001b[0m\u001b[0;32m     68\u001b[0m \u001b[1;33m\u001b[0m\u001b[0m\n\u001b[0;32m     69\u001b[0m     \u001b[1;32mdef\u001b[0m \u001b[0mnouns\u001b[0m\u001b[1;33m(\u001b[0m\u001b[0mself\u001b[0m\u001b[1;33m,\u001b[0m \u001b[0mphrase\u001b[0m\u001b[1;33m)\u001b[0m\u001b[1;33m:\u001b[0m\u001b[1;33m\u001b[0m\u001b[1;33m\u001b[0m\u001b[0m\n",
      "\u001b[1;32mc:\\users\\user\\appdata\\local\\programs\\python\\python38\\lib\\site-packages\\konlpy\\tag\\_okt.py\u001b[0m in \u001b[0;36m<listcomp>\u001b[1;34m(.0)\u001b[0m\n\u001b[0;32m     65\u001b[0m             \u001b[1;32mreturn\u001b[0m \u001b[1;33m[\u001b[0m\u001b[0mt\u001b[0m \u001b[1;32mfor\u001b[0m \u001b[0mt\u001b[0m \u001b[1;32min\u001b[0m \u001b[0mtokens\u001b[0m\u001b[1;33m]\u001b[0m\u001b[1;33m\u001b[0m\u001b[1;33m\u001b[0m\u001b[0m\n\u001b[0;32m     66\u001b[0m         \u001b[1;32melse\u001b[0m\u001b[1;33m:\u001b[0m\u001b[1;33m\u001b[0m\u001b[1;33m\u001b[0m\u001b[0m\n\u001b[1;32m---> 67\u001b[1;33m             \u001b[1;32mreturn\u001b[0m \u001b[1;33m[\u001b[0m\u001b[0mtuple\u001b[0m\u001b[1;33m(\u001b[0m\u001b[0mt\u001b[0m\u001b[1;33m.\u001b[0m\u001b[0mrsplit\u001b[0m\u001b[1;33m(\u001b[0m\u001b[1;34m'/'\u001b[0m\u001b[1;33m,\u001b[0m \u001b[1;36m1\u001b[0m\u001b[1;33m)\u001b[0m\u001b[1;33m)\u001b[0m \u001b[1;32mfor\u001b[0m \u001b[0mt\u001b[0m \u001b[1;32min\u001b[0m \u001b[0mtokens\u001b[0m\u001b[1;33m]\u001b[0m\u001b[1;33m\u001b[0m\u001b[1;33m\u001b[0m\u001b[0m\n\u001b[0m\u001b[0;32m     68\u001b[0m \u001b[1;33m\u001b[0m\u001b[0m\n\u001b[0;32m     69\u001b[0m     \u001b[1;32mdef\u001b[0m \u001b[0mnouns\u001b[0m\u001b[1;33m(\u001b[0m\u001b[0mself\u001b[0m\u001b[1;33m,\u001b[0m \u001b[0mphrase\u001b[0m\u001b[1;33m)\u001b[0m\u001b[1;33m:\u001b[0m\u001b[1;33m\u001b[0m\u001b[1;33m\u001b[0m\u001b[0m\n",
      "\u001b[1;32mc:\\users\\user\\appdata\\local\\programs\\python\\python38\\lib\\site-packages\\jpype\\_jarray.py\u001b[0m in \u001b[0;36m__next__\u001b[1;34m(self)\u001b[0m\n\u001b[0;32m    178\u001b[0m         \u001b[1;32mif\u001b[0m \u001b[0mself\u001b[0m\u001b[1;33m.\u001b[0m\u001b[0m_ndx\u001b[0m \u001b[1;33m>=\u001b[0m \u001b[0mlen\u001b[0m\u001b[1;33m(\u001b[0m\u001b[0mself\u001b[0m\u001b[1;33m.\u001b[0m\u001b[0m_array\u001b[0m\u001b[1;33m)\u001b[0m\u001b[1;33m:\u001b[0m\u001b[1;33m\u001b[0m\u001b[1;33m\u001b[0m\u001b[0m\n\u001b[0;32m    179\u001b[0m             \u001b[1;32mraise\u001b[0m \u001b[0mStopIteration\u001b[0m\u001b[1;33m\u001b[0m\u001b[1;33m\u001b[0m\u001b[0m\n\u001b[1;32m--> 180\u001b[1;33m         \u001b[1;32mreturn\u001b[0m \u001b[0mself\u001b[0m\u001b[1;33m.\u001b[0m\u001b[0m_array\u001b[0m\u001b[1;33m[\u001b[0m\u001b[0mself\u001b[0m\u001b[1;33m.\u001b[0m\u001b[0m_ndx\u001b[0m\u001b[1;33m]\u001b[0m\u001b[1;33m\u001b[0m\u001b[1;33m\u001b[0m\u001b[0m\n\u001b[0m\u001b[0;32m    181\u001b[0m \u001b[1;33m\u001b[0m\u001b[0m\n\u001b[0;32m    182\u001b[0m     \u001b[0mnext\u001b[0m \u001b[1;33m=\u001b[0m \u001b[0m__next__\u001b[0m\u001b[1;33m\u001b[0m\u001b[1;33m\u001b[0m\u001b[0m\n",
      "\u001b[1;31mUnicodeDecodeError\u001b[0m: 'utf-8' codec can't decode byte 0xed in position 20: invalid continuation byte"
     ]
    }
   ],
   "source": [
    "# 시간이 무척 오래 걸림.\n",
    "import codecs\n",
    "from bs4 import BeautifulSoup\n",
    "from konlpy.tag import Okt\n",
    "from gensim.models import word2vec\n",
    "# 파일 열기\n",
    "readFp = codecs.open(\"wiki.txt\", \"r\", encoding=\"utf-8\")\n",
    "gubun_file = \"wiki.gubun\"\n",
    "writeFp = open(gubun_file, \"w\", encoding=\"utf-8\")\n",
    "# 형태소 분석 --- (※2)\n",
    "twitter = Okt()\n",
    "i = 0\n",
    "# 텍스트를 한 줄씩 처리하기\n",
    "while True:\n",
    "    line = readFp.readline()\n",
    "    if not line: break\n",
    "    if i % 20000 == 0:\n",
    "        print(\"current - \" + str(i))\n",
    "    i += 1\n",
    "    # 형태소 분석\n",
    "    malist = twitter.pos(line, norm=True, stem=True)\n",
    "    # 필요한 어구만 대상으로 하기\n",
    "    r = []\n",
    "    for word in malist:\n",
    "        # 어미/조사/구두점 등은 대상에서 제외 \n",
    "        if not word[1] in [\"Josa\", \"Eomi\", \"Punctuation\"]:\n",
    "            writeFp.write(word[0] + \" \")\n",
    "writeFp.close()"
   ]
  },
  {
   "cell_type": "code",
   "execution_count": 22,
   "id": "8e57352a",
   "metadata": {},
   "outputs": [
    {
     "name": "stdout",
     "output_type": "stream",
     "text": [
      "ok\n"
     ]
    }
   ],
   "source": [
    "from gensim.models import word2vec\n",
    "data = word2vec.Text8Corpus(\"wiki.gubun\")\n",
    "model = word2vec.Word2Vec(data)\n",
    "# Word2Vec 모델 만들기\n",
    "model.save(\"wiki.model\")\n",
    "print(\"ok\")"
   ]
  },
  {
   "cell_type": "code",
   "execution_count": 24,
   "id": "3bbccb4d",
   "metadata": {},
   "outputs": [
    {
     "data": {
      "text/plain": [
       "[('Java', 0.9237908124923706),\n",
       " ('스크립트', 0.883826494216919),\n",
       " ('Lisp', 0.8795396089553833),\n",
       " ('IDE', 0.8763120770454407),\n",
       " ('VHDL', 0.8747830390930176),\n",
       " ('application', 0.8695873618125916),\n",
       " ('POSIX', 0.8683142066001892),\n",
       " ('자바스크립트', 0.8675870299339294),\n",
       " ('툴킷', 0.8641968965530396),\n",
       " ('DOM', 0.8637654781341553)]"
      ]
     },
     "execution_count": 24,
     "metadata": {},
     "output_type": "execute_result"
    }
   ],
   "source": [
    "from gensim.models import word2vec\n",
    "# 모델을 불러온다.\n",
    "model = word2vec.Word2Vec.load('wiki.model')\n",
    "model.wv.most_similar(positive=[\"Python\",\"파이썬\"]) # 두 글자에 해당하는 글자가 있는지 비교"
   ]
  },
  {
   "cell_type": "code",
   "execution_count": 2,
   "id": "89c792f6",
   "metadata": {},
   "outputs": [
    {
     "data": {
      "text/plain": [
       "('엄마', 0.806297779083252)"
      ]
     },
     "execution_count": 2,
     "metadata": {},
     "output_type": "execute_result"
    }
   ],
   "source": [
    "model.wv.most_similar(positive=[\"아빠\",\"여성\"],negative=[\"남성\"])[0]"
   ]
  },
  {
   "cell_type": "code",
   "execution_count": 30,
   "id": "dee1858a",
   "metadata": {},
   "outputs": [
    {
     "data": {
      "text/plain": [
       "[('여왕', 0.6681610941886902),\n",
       " ('공주', 0.6631975769996643),\n",
       " ('왕비', 0.6539091467857361),\n",
       " ('왕녀', 0.6437827348709106),\n",
       " ('왕', 0.6290043592453003)]"
      ]
     },
     "execution_count": 30,
     "metadata": {},
     "output_type": "execute_result"
    }
   ],
   "source": [
    "model.wv.most_similar(positive=[\"왕자\",\"여성\"],negative=[\"남성\"])[0:5]"
   ]
  },
  {
   "cell_type": "code",
   "execution_count": 31,
   "id": "1b4b5fb3",
   "metadata": {},
   "outputs": [
    {
     "data": {
      "text/plain": [
       "[('오사카', 0.5926117300987244),\n",
       " ('교토', 0.5704297423362732),\n",
       " ('도쿄', 0.5358720421791077),\n",
       " ('上京', 0.47637733817100525),\n",
       " ('지방재판소', 0.45574498176574707)]"
      ]
     },
     "execution_count": 31,
     "metadata": {},
     "output_type": "execute_result"
    }
   ],
   "source": [
    "model.wv.most_similar(positive=[\"서울\",\"일본\"],negative=[\"한국\"])[0:5]"
   ]
  },
  {
   "cell_type": "code",
   "execution_count": 32,
   "id": "6bf5da2b",
   "metadata": {},
   "outputs": [
    {
     "data": {
      "text/plain": [
       "[('베이징', 0.6676950454711914),\n",
       " ('우한', 0.5753980278968811),\n",
       " ('북경', 0.5700119733810425),\n",
       " ('옌안', 0.5463683605194092),\n",
       " ('상하이', 0.5420531630516052)]"
      ]
     },
     "execution_count": 32,
     "metadata": {},
     "output_type": "execute_result"
    }
   ],
   "source": [
    "model.wv.most_similar(positive=[\"서울\",\"중국\"],negative=[\"한국\"])[0:5]"
   ]
  },
  {
   "cell_type": "code",
   "execution_count": 33,
   "id": "4a7e107f",
   "metadata": {},
   "outputs": [
    {
     "data": {
      "text/plain": [
       "('여자', 0.7813071012496948)"
      ]
     },
     "execution_count": 33,
     "metadata": {},
     "output_type": "execute_result"
    }
   ],
   "source": [
    "model.wv.most_similar(positive=[\"오른쪽\",\"남자\"],negative=[\"왼쪽\"])[0]"
   ]
  },
  {
   "cell_type": "code",
   "execution_count": 34,
   "id": "33b3fb85",
   "metadata": {},
   "outputs": [
    {
     "data": {
      "text/plain": [
       "[('목포', 0.6981028914451599),\n",
       " ('서울시', 0.6954939961433411),\n",
       " ('여의도', 0.6862083673477173),\n",
       " ('대구', 0.6847037672996521),\n",
       " ('인천', 0.6838042140007019)]"
      ]
     },
     "execution_count": 34,
     "metadata": {},
     "output_type": "execute_result"
    }
   ],
   "source": [
    "model.wv.most_similar(positive=[\"서울\",\"맛집\"])[0:5]"
   ]
  },
  {
   "cell_type": "code",
   "execution_count": 35,
   "id": "dc2b16ad",
   "metadata": {},
   "outputs": [
    {
     "data": {
      "text/plain": [
       "array([-0.5879089 ,  0.7160707 , -0.63743424,  0.5916823 ,  0.6483732 ,\n",
       "       -1.1699338 ,  0.05905781,  1.2085228 ,  0.32056943, -0.4851116 ,\n",
       "       -0.65722543,  1.8855795 ,  0.02662493,  0.11286543,  3.11675   ,\n",
       "       -0.26822254,  0.70381105, -1.6339861 , -0.22890031, -2.3092346 ,\n",
       "       -0.97797114,  0.6293271 ,  1.8874424 ,  0.2988532 , -0.38220122,\n",
       "       -0.07861234,  1.5912219 , -2.8610141 ,  2.4275806 ,  2.2052639 ,\n",
       "        0.10022268, -0.28597715, -0.26246017,  0.3807703 ,  0.74054503,\n",
       "        2.187006  , -1.2304994 ,  2.340044  , -0.6310636 , -1.6200192 ,\n",
       "        1.0140454 ,  1.8191077 , -1.2430735 ,  0.055448  ,  0.63974696,\n",
       "       -1.1389556 ,  0.23449287,  1.9012924 , -0.2416645 ,  2.6880648 ,\n",
       "       -1.2145813 , -0.82203144,  1.721589  , -0.405279  , -0.5817576 ,\n",
       "        1.5870575 , -1.4308301 ,  0.24809945, -2.9210153 ,  0.729148  ,\n",
       "        1.3224305 ,  1.7299472 , -2.0686274 ,  0.04709513, -0.5162354 ,\n",
       "        0.40182638, -0.29287833,  1.5646642 ,  0.72802144,  0.48391548,\n",
       "       -0.5204064 ,  0.02073656,  1.0758326 ,  0.18130912, -0.507539  ,\n",
       "        0.37184703,  0.08264993, -0.70001435,  0.60854656, -1.1838485 ,\n",
       "        1.8443886 ,  0.5472779 , -0.39545974, -0.7153675 , -1.308541  ,\n",
       "        0.044691  ,  0.09821627,  0.8005985 ,  1.8092521 , -1.5556214 ,\n",
       "        1.3837597 ,  1.2001317 ,  0.20515962,  0.7940026 ,  2.1546667 ,\n",
       "        0.9491663 , -1.65414   ,  0.03561476, -1.2748218 , -1.1984614 ],\n",
       "      dtype=float32)"
      ]
     },
     "execution_count": 35,
     "metadata": {},
     "output_type": "execute_result"
    }
   ],
   "source": [
    "model.wv[\"고양이\"]"
   ]
  },
  {
   "cell_type": "code",
   "execution_count": 36,
   "id": "09233c14",
   "metadata": {},
   "outputs": [
    {
     "data": {
      "text/plain": [
       "100"
      ]
     },
     "execution_count": 36,
     "metadata": {},
     "output_type": "execute_result"
    }
   ],
   "source": [
    "len(model.wv[\"고양이\"])"
   ]
  },
  {
   "cell_type": "code",
   "execution_count": 37,
   "id": "3fb77df3",
   "metadata": {},
   "outputs": [
    {
     "data": {
      "text/plain": [
       "100"
      ]
     },
     "execution_count": 37,
     "metadata": {},
     "output_type": "execute_result"
    }
   ],
   "source": [
    "len(model.wv[\"강아지\"])"
   ]
  },
  {
   "attachments": {
    "image-2.png": {
     "image/png": "[encoded data removed]"
    },
    "image-3.png": {
     "image/png": "[encoded data removed]"
    },
    "image-4.png": {
     "image/png": "[encoded data removed]"
    },
    "image-6.png": {
     "image/png": "[encoded data removed]"
    },
    "image-7.png": {
     "image/png": "[encoded data removed]"
    }
   },
   "cell_type": "markdown",
   "id": "fd080a0d",
   "metadata": {},
   "source": [
    "# 베이즈 정리로 텍스트 분류하기\n",
    "P(B|A) = P(A|B)P(B)/P(A)<br /><br />\n",
    "\n",
    "P(A)란 A가 일어날 확률<br />\n",
    "P(B)란 B가 일어날 확률<br />\n",
    "P(A|B)란 B가 일어난 후에 A가 일어날 확률(조건부 확률, 사후확률)<br />\n",
    "P(B|A)란 A가 일어난 후에 B가 일어날 확률 (조건부 확률, 사전확률)<br /><br />\n",
    "\n",
    "비가 내릴 확률 : P(<비>)<br />\n",
    "교통사고가 발생할 확률 : P(<교통 사고>)<br /><br />\n",
    "\n",
    "이때 “비가 내리는 날에 교통사고가 발생할 확률”은 \"P(<교통사고>|<비>)“로 나타낸다.<br /><br />\n",
    "\n",
    "문제) 위를 두 번 던져서 “첫 번째가 3”, “두 번째가 짝수”가 될 확률<br />\n",
    "특정 숫자가 나올 확률은  1/6 <br />\n",
    "홀수/짝수가 나올 확률은 3/6 = 1/2 <br />\n",
    "두 조건이 만족하기 위한 확률은 (1/6) * (1/2) = 1/12<br /><br />\n",
    "\n",
    "\n",
    "문방구에서 잘 팔리는 제품은 공책과 사인펜이다. 특정 주의 “전체 손님”, “공책을 구입한 손님”, “사인펜을 구입한 손님”,“두 가지를 모두 구입한 손님”을 세어보니 다음과 같았다.<br />\n",
    "\n",
    "전체 손님 수 : 100<br />\n",
    "공책을 구입한 손님 수 : 50<br />\n",
    "사인펜을 구입한 손님 수 : 20<br />\n",
    "두 가지를 모두 구입한 손님 : 10<br />\n",
    "\n",
    "(A)노트와 (B)사인펜을 동시에 구입할 확률은?<br />\n",
    "(A)노트를 구입한 사람(50명)중에서 이어서 (B)사인펜을 구입할 손님(10명)의 결합 확률을 구해보면<br />\n",
    "![image-2.png](attachment:image-2.png)\n",
    "\n",
    "<노트를 구입하는 사건>을 사건 A, <사인펜을 구입하는 사건>을 사건 B라고 한다. 따라서 사인펜을 구입할 확률은 P(B)가 되겠다.<br />\n",
    "(B)사인펜을 구입하는 조건에서 (A)노트를 구입할 확률을 조건부 확률이므로 P(A|B)로 나타난다.<br />\n",
    "B와 A의 결합 확률 = P(A|B) x P(B)\n",
    "\n",
    "\n",
    "반대로 (B)사인펜을 구입하고 (A)노트를 구입할 확률도 생각해보자. A와 B의 결합 확률이므로 다음과 같이 나타낼 수 있다.\n",
    "A와 B의 결합 확률 = P(B|A) x P(A)\n",
    "![image-3.png](attachment:image-3.png)\n",
    "\n",
    "P(B|A) x P(A) =  P(A|B) x P(B)\n",
    "\n",
    "# 나이브 베이지 분류\n",
    "텍스트 분류를 예로 들면 A를 입력 테스트, B를 카테고리 판정 결과라고 할 수 있다.\n",
    "예로는 이메일 스팸 필터에 사용한다면 A가 받는 메일이고, B가 스팸 메일 판정결과이다.\n",
    "\n",
    "어떤 문장을 카테고리 분류할 때 나이브 베이즈 분류는 텍스트 내부에서의 단어 출현 비율을 조사한다. 그리고 이를 기반으로 해당 텍스트를 어떤 카테고리로 분류하는 것이 적합한디 알아본다.\n",
    "\n",
    "![image-4.png](attachment:image-4.png)\n",
    "\n",
    "P(A|B)는 1개의 확률이 아니라 여러 개의 카테고리 중에 어떤 카테고리에 속할 확률이 가장 큰지를 나타내는 정보\n",
    "베이즈 정리의 분모에 있는 P(B)는 입력 텍스트가 주어질 확률이다.\n",
    "\n",
    "![image-7.png](attachment:image-7.png)\n",
    "![image-6.png](attachment:image-6.png)\n"
   ]
  },
  {
   "cell_type": "code",
   "execution_count": 107,
   "id": "3183c572",
   "metadata": {},
   "outputs": [],
   "source": [
    "# bayes.py\n",
    "import math, sys\n",
    "from konlpy.tag import Okt\n",
    "class BayesianFilter:\n",
    "    \"\"\" 베이지안 필터 \"\"\"\n",
    "    def __init__(self):\n",
    "        self.words = set() # 출현한 단어 기록\n",
    "        self.word_dict = {} # 카테고리마다의 출현 횟수 기록\n",
    "        self.category_dict = {} # 카테고리 출현 횟수 기록\n",
    "    # 형태소 분석하기 --- (※1)\n",
    "    def split(self, text):\n",
    "        results = []\n",
    "        twitter = Okt()\n",
    "        # 단어의 기본형 사용 \n",
    "        malist = twitter.pos(text, norm=True, stem=True) \n",
    "        for word in malist:\n",
    "            # 어미/조사/구두점 등은 대상에서 제외 \n",
    "            if not word[1] in [\"Josa\", \"Eomi\", \"Punctuation\"]:\n",
    "                results.append(word[0])\n",
    "        return results\n",
    "    # 단어와 카테고리의 출현 횟수 세기 --- (※2)\n",
    "    def inc_word(self, word, category): # 파격, 광고\n",
    "        # 단어를 카테고리에 추가하기\n",
    "        if not category in self.word_dict:\n",
    "            self.word_dict[category] = {}   # word_dict['광고'] = {}\n",
    "        if not word in self.word_dict[category]: #   \n",
    "            self.word_dict[category][word] = 0  # word_dict['광고']['파격'] = 0 : word_dict = {'광고':{'파격':0}}\n",
    "        self.word_dict[category][word] += 1 # word_dict['광고']['파격'] = 1 : word_dict = {'광고':{'파격':1}}\n",
    "        self.words.add(word)                   # words.add('파격')\n",
    "    def inc_category(self, category): # '광고'\n",
    "        # 카테고리 계산하기\n",
    "        if not category in self.category_dict:\n",
    "            self.category_dict[category] = 0 # category_dict['광고'] = 0 : category_dict={'광고' : 0}\n",
    "        self.category_dict[category] += 1 # category_dict['광고'] = 1 : category_dict={'광고' : 1}\n",
    "    # 텍스트 학습하기 --- (※3)\n",
    "    def fit(self, text, category): #  text=\"파격 세일 - 오늘까지만 30% 할인\", category = \"광고\"\n",
    "        \"\"\" 텍스트 학습 \"\"\"\n",
    "        word_list = self.split(text) # text에 있는 값을 공백문자를 기준으로 분리\n",
    "        for word in word_list: # text값이 리스트로 분리되어 있는 단어를 분석하기 위해 반복문 사용\n",
    "            self.inc_word(word, category) # 단어와 category를 inc_word 를 사용해서 단어를 카테고리에 추가\n",
    "        self.inc_category(category)\n",
    "    \n",
    "    # 단어 리스트에 점수 매기기--- (※4)\n",
    "    def score(self, words, category): # words = '재고', category = '광고'\n",
    "        # print(math.log(1)) # output: 0.0\n",
    "        # print(math.log(2)) # output: 0.6931471805599453\n",
    "        # print(math.log(math.e ** 2)) # output: 2.0\n",
    "        score = math.log(self.category_prob(category)) # 0.5 : \n",
    "        # math.log(0.5) # output: -0.6931471805599453\n",
    "\n",
    "        for word in words:  # words = ('재고', '정리', '할인', '무료', '배송')\n",
    "            score += math.log(self.word_prob(word, category)) # 0.015384615384615385\n",
    "        return score\n",
    "    \n",
    "    # 예측하기 --- (※5)\n",
    "    def predict(self, text): #  text = \"재고 정리 할인, 무료 배송\"\n",
    "        best_category = None\n",
    "        max_score = - sys.maxsize    # 9223372036854775807\n",
    "        words = self.split(text) # words = ['재고', '정리', '할인,', '무료', '배송']\n",
    "        score_list = []\n",
    "        for category in self.category_dict.keys(): # {'광고': 5, '중요': 5}\n",
    "            score = self.score(words, category) # words = '재고', category = '광고'\n",
    "            score_list.append((category, score))\n",
    "            if score > max_score: \n",
    "                max_score = score\n",
    "                best_category = category\n",
    "        return best_category, score_list # 광고, [('광고', -19.485641988358296), ('중요', -20.63806741338132)]\n",
    "    # 카테고리 내부의 단어 출현 횟수 구하기\n",
    "    def get_word_count(self, word, category):\n",
    "        if word in self.word_dict[category]: \n",
    "            return self.word_dict[category][word] # word_dict['광고']['할인'] = 1\n",
    "        else:\n",
    "            return 0\n",
    "    # 카테고리 계산\n",
    "    def category_prob(self, category):\n",
    "        sum_categories = sum(self.category_dict.values()) # 10\n",
    "        category_v = self.category_dict[category]\n",
    "        return category_v / sum_categories # 5/10\n",
    "        \n",
    "    # 카테고리 내부의 단어 출현 비율 계산 --- (※6)\n",
    "    def word_prob(self, word, category):\n",
    "        n = self.get_word_count(word, category) + 1 # ---(※6a)      \n",
    "        d = sum(self.word_dict[category].values()) + len(self.words) # 28 37, 17 37\n",
    "        return n / d "
   ]
  },
  {
   "cell_type": "code",
   "execution_count": 108,
   "id": "f6116e8f",
   "metadata": {},
   "outputs": [
    {
     "name": "stdout",
     "output_type": "stream",
     "text": [
      "결과 = 광고\n",
      "[('광고', -19.485641988358296), ('중요', -20.63806741338132)]\n"
     ]
    }
   ],
   "source": [
    "bf = BayesianFilter()\n",
    "# 텍스트 학습\n",
    "bf.fit(\"파격 세일 - 오늘까지만 30% 할인\", \"광고\")\n",
    "bf.fit(\"쿠폰 선물 & 무료 배송\", \"광고\")\n",
    "bf.fit(\"현데계 백화점 세일\", \"광고\")\n",
    "bf.fit(\"봄과 함께 찾아온 따뜻한 신제품 소식\", \"광고\")\n",
    "bf.fit(\"인기 제품 기간 한정 세일\", \"광고\")\n",
    "bf.fit(\"오늘 일정 확인\", \"중요\")\n",
    "bf.fit(\"프로젝트 진행 상황 보고\",\"중요\")\n",
    "bf.fit(\"계약 잘 부탁드립니다\",\"중요\")\n",
    "bf.fit(\"회의 일정이 등록되었습니다.\",\"중요\")\n",
    "bf.fit(\"오늘 일정이 없습니다.\",\"중요\")\n",
    "# 예측\n",
    "pre, scorelist = bf.predict(\"재고 정리 할인, 무료 배송\")\n",
    "print(\"결과 =\", pre)\n",
    "print(scorelist)"
   ]
  },
  {
   "attachments": {
    "image.png": {
     "image/png": "[encoded data removed]"
    }
   },
   "cell_type": "markdown",
   "id": "94563381",
   "metadata": {},
   "source": [
    "# 레벤슈타인 거리 구하기\n",
    "#가나다라”와 “가마바라”는 얼마나 비슷할까? 레벤슈타인 거리는 “가나다라”를 “가마바라”로 편집할 때 몇 번의 문자열 조작이 필요한지에 주목해서 단어의 거리를 구한다.\n",
    "\n",
    "“가나다라”를 “가마바라”로 변경하려면 2번의 조작이 필요하다. 따라서 편집 비용(조작 횟수)은 2라고 할 수 있으며, 이러한 2를 레벤슈타인 거리라고 한다. \n",
    "\n",
    "레벤슈타인 거리를 계산하기 위해 2차원 테이블(matrix 변수)를 준비했다. 이를 기반으로 다음과 같은 표를 만든다.\n",
    "![image.png](attachment:image.png)\n",
    "\n",
    "만약 비교하는 글씨가 같으면 m[i][j] = m[i-1][j-1] + 0<br />\n",
    "비교하는 글씨가 다르면 m[i][j] = m[i-1][j-1] + 1을 해서 마지막 배열에 있는 값이 레벤슈타인 거리이다.\n"
   ]
  },
  {
   "cell_type": "code",
   "execution_count": 21,
   "id": "62a122cd",
   "metadata": {},
   "outputs": [
    {
     "name": "stdout",
     "output_type": "stream",
     "text": [
      "2\n",
      "0 신촌역\n",
      "1 신천역\n",
      "2 신천군\n",
      "2 마곡역\n",
      "3 신발\n"
     ]
    }
   ],
   "source": [
    "def calc_distance(a, b): # \"가나다라\",\"가마바라\"\n",
    "    ''' 레벤슈타인 거리 계산하기 '''\n",
    "    if a == b: return 0\n",
    "    a_len = len(a)\n",
    "    b_len = len(b)\n",
    "    if a == \"\": return b_len\n",
    "    if b == \"\": return a_len\n",
    "    # 2차원 표 (a_len+1, b_len+1) 준비하기 --- (※1)\n",
    "    matrix = [[] for i in range(a_len+1)] # [[], [], [], [], []]\n",
    "    for i in range(a_len+1): # 0으로 초기화\n",
    "        matrix[i] = [0 for j in range(b_len+1)]\n",
    "        #[[0, 0, 0, 0, 0], [0, 0, 0, 0, 0], [0, 0, 0, 0, 0], [0, 0, 0, 0, 0], [0, 0, 0, 0, 0]]\n",
    "    # 0일 때 초깃값을 설정\n",
    "    for i in range(a_len+1):\n",
    "        matrix[i][0] = i \n",
    "        #[[0, 0, 0, 0, 0], [1, 0, 0, 0, 0], [2, 0, 0, 0, 0], [3, 0, 0, 0, 0], [4, 0, 0, 0, 0]]\n",
    "    for j in range(b_len+1):\n",
    "        matrix[0][j] = j\n",
    "        #[[0, 1, 2, 3, 4], [1, 0, 0, 0, 0], [2, 0, 0, 0, 0], [3, 0, 0, 0, 0], [4, 0, 0, 0, 0]]\n",
    "    # 표 채우기 --- (※2)\n",
    "    for i in range(1, a_len+1):\n",
    "        ac = a[i-1] # 가, 나, 다, 라\n",
    "        for j in range(1, b_len+1): \n",
    "            bc = b[j-1] # 가, 마, 바, 라\n",
    "            cost = 0 if (ac == bc) else 1 # 같은 문자이면 0,다른 문자이면 1\n",
    "            matrix[i][j] = matrix[i-1][j-1] + cost\n",
    "    return matrix[a_len][b_len]\n",
    "# \"가나다라\"와 \"가마바라\"의 거리 --- (※3)\n",
    "print(calc_distance(\"가나다라\",\"가마바라\"))\n",
    "# 실행 예\n",
    "samples = [\"신촌역\",\"신천군\",\"신천역\",\"신발\",\"마곡역\"]\n",
    "base = samples[0]\n",
    "r = sorted(samples, key = lambda n: calc_distance(base, n))\n",
    "#['신촌역','신천역','신천군','신발','마곡역']\n",
    "for n in r:\n",
    "    print(calc_distance(base, n), n)"
   ]
  },
  {
   "cell_type": "code",
   "execution_count": 23,
   "id": "922d83e8",
   "metadata": {},
   "outputs": [
    {
     "name": "stdout",
     "output_type": "stream",
     "text": [
      "2-gram: 0.7619047619047619 ['오늘', '강남', '남에', '에서', '서 ', ' 맛', '맛있', '는 ', ' 스', '스파', '파게', '게티', ' 먹', '먹었', '었다', '다.']\n",
      "3-gram: 0.45 ['강남에', '남에서', '에서 ', ' 맛있', ' 스파', '스파게', '파게티', ' 먹었', '었다.']\n"
     ]
    }
   ],
   "source": [
    "# N-gram 으로 유사도 구하기\n",
    "#“N-gram”이란 텍스트에서 “이웃한 N개의 문자”를 의미\n",
    "# 출현하는 단어의 종류와 빈도를 확인할 수 있다.\n",
    "# 논문 도용등을 확인 할 때 사용\n",
    "\n",
    "def ngram(s, num):\n",
    "    res = []\n",
    "    slen = len(s) - num + 1\n",
    "    for i in range(slen):\n",
    "        ss = s[i:i+num]\n",
    "        res.append(ss)\n",
    "    return res\n",
    "def diff_ngram(sa, sb, num):\n",
    "    a = ngram(sa, num)\n",
    "    b = ngram(sb, num)\n",
    "    r = []\n",
    "    cnt = 0\n",
    "    for i in a:\n",
    "        for j in b:\n",
    "            if i == j:\n",
    "                cnt += 1\n",
    "                r.append(i)\n",
    "    return cnt / len(a), r\n",
    "a = \"오늘 강남에서 맛있는 스파게티를 먹었다.\"\n",
    "b = \"강남에서 먹었던 오늘의 스파게티는 맛있었다.\"\n",
    "# 2-gram\n",
    "r2, word2 = diff_ngram(a, b, 2)\n",
    "print(\"2-gram:\", r2, word2)\n",
    "# 3-gram\n",
    "r3, word3  = diff_ngram(a, b, 3)\n",
    "print(\"3-gram:\", r3, word3)"
   ]
  },
  {
   "cell_type": "code",
   "execution_count": 4,
   "id": "d3a7e71e",
   "metadata": {},
   "outputs": [
    {
     "ename": "HTTPError",
     "evalue": "HTTP Error 500: 500",
     "output_type": "error",
     "traceback": [
      "\u001b[1;31m---------------------------------------------------------------------------\u001b[0m",
      "\u001b[1;31mHTTPError\u001b[0m                                 Traceback (most recent call last)",
      "\u001b[1;32m~\\AppData\\Local\\Temp/ipykernel_11404/1724164386.py\u001b[0m in \u001b[0;36m<module>\u001b[1;34m\u001b[0m\n\u001b[0;32m     82\u001b[0m \u001b[1;31m# 문장 만들기 --- (※6)\u001b[0m\u001b[1;33m\u001b[0m\u001b[1;33m\u001b[0m\u001b[1;33m\u001b[0m\u001b[0m\n\u001b[0;32m     83\u001b[0m \u001b[1;32mfor\u001b[0m \u001b[0mi\u001b[0m \u001b[1;32min\u001b[0m \u001b[0mrange\u001b[0m\u001b[1;33m(\u001b[0m\u001b[1;36m3\u001b[0m\u001b[1;33m)\u001b[0m\u001b[1;33m:\u001b[0m\u001b[1;33m\u001b[0m\u001b[1;33m\u001b[0m\u001b[0m\n\u001b[1;32m---> 84\u001b[1;33m     \u001b[0ms\u001b[0m \u001b[1;33m=\u001b[0m \u001b[0mmake_sentence\u001b[0m\u001b[1;33m(\u001b[0m\u001b[0mdic\u001b[0m\u001b[1;33m)\u001b[0m\u001b[1;33m\u001b[0m\u001b[1;33m\u001b[0m\u001b[0m\n\u001b[0m\u001b[0;32m     85\u001b[0m     \u001b[0mprint\u001b[0m\u001b[1;33m(\u001b[0m\u001b[0ms\u001b[0m\u001b[1;33m)\u001b[0m\u001b[1;33m\u001b[0m\u001b[1;33m\u001b[0m\u001b[0m\n\u001b[0;32m     86\u001b[0m     \u001b[0mprint\u001b[0m\u001b[1;33m(\u001b[0m\u001b[1;34m\"---\"\u001b[0m\u001b[1;33m)\u001b[0m\u001b[1;33m\u001b[0m\u001b[1;33m\u001b[0m\u001b[0m\n",
      "\u001b[1;32m~\\AppData\\Local\\Temp/ipykernel_11404/1724164386.py\u001b[0m in \u001b[0;36mmake_sentence\u001b[1;34m(dic)\u001b[0m\n\u001b[0;32m     45\u001b[0m     })\n\u001b[0;32m     46\u001b[0m     \u001b[1;31m# 네이버 맞춤법 검사기를 사용합니다.\u001b[0m\u001b[1;33m\u001b[0m\u001b[1;33m\u001b[0m\u001b[1;33m\u001b[0m\u001b[0m\n\u001b[1;32m---> 47\u001b[1;33m     \u001b[0mdata\u001b[0m \u001b[1;33m=\u001b[0m \u001b[0murllib\u001b[0m\u001b[1;33m.\u001b[0m\u001b[0mrequest\u001b[0m\u001b[1;33m.\u001b[0m\u001b[0murlopen\u001b[0m\u001b[1;33m(\u001b[0m\u001b[1;34m\"https://m.search.naver.com/p/csearch/ocontent/util/SpellerProxy?\"\u001b[0m \u001b[1;33m+\u001b[0m \u001b[0mparams\u001b[0m\u001b[1;33m)\u001b[0m\u001b[1;33m\u001b[0m\u001b[1;33m\u001b[0m\u001b[0m\n\u001b[0m\u001b[0;32m     48\u001b[0m     \u001b[0mdata\u001b[0m \u001b[1;33m=\u001b[0m \u001b[0mdata\u001b[0m\u001b[1;33m.\u001b[0m\u001b[0mread\u001b[0m\u001b[1;33m(\u001b[0m\u001b[1;33m)\u001b[0m\u001b[1;33m.\u001b[0m\u001b[0mdecode\u001b[0m\u001b[1;33m(\u001b[0m\u001b[1;34m\"utf-8\"\u001b[0m\u001b[1;33m)\u001b[0m\u001b[1;33m[\u001b[0m\u001b[1;36m1\u001b[0m\u001b[1;33m:\u001b[0m\u001b[1;33m-\u001b[0m\u001b[1;36m2\u001b[0m\u001b[1;33m]\u001b[0m\u001b[1;33m\u001b[0m\u001b[1;33m\u001b[0m\u001b[0m\n\u001b[0;32m     49\u001b[0m     \u001b[0mdata\u001b[0m \u001b[1;33m=\u001b[0m \u001b[0mjson\u001b[0m\u001b[1;33m.\u001b[0m\u001b[0mloads\u001b[0m\u001b[1;33m(\u001b[0m\u001b[0mdata\u001b[0m\u001b[1;33m)\u001b[0m\u001b[1;33m\u001b[0m\u001b[1;33m\u001b[0m\u001b[0m\n",
      "\u001b[1;32mc:\\users\\user\\appdata\\local\\programs\\python\\python38\\lib\\urllib\\request.py\u001b[0m in \u001b[0;36murlopen\u001b[1;34m(url, data, timeout, cafile, capath, cadefault, context)\u001b[0m\n\u001b[0;32m    220\u001b[0m     \u001b[1;32melse\u001b[0m\u001b[1;33m:\u001b[0m\u001b[1;33m\u001b[0m\u001b[1;33m\u001b[0m\u001b[0m\n\u001b[0;32m    221\u001b[0m         \u001b[0mopener\u001b[0m \u001b[1;33m=\u001b[0m \u001b[0m_opener\u001b[0m\u001b[1;33m\u001b[0m\u001b[1;33m\u001b[0m\u001b[0m\n\u001b[1;32m--> 222\u001b[1;33m     \u001b[1;32mreturn\u001b[0m \u001b[0mopener\u001b[0m\u001b[1;33m.\u001b[0m\u001b[0mopen\u001b[0m\u001b[1;33m(\u001b[0m\u001b[0murl\u001b[0m\u001b[1;33m,\u001b[0m \u001b[0mdata\u001b[0m\u001b[1;33m,\u001b[0m \u001b[0mtimeout\u001b[0m\u001b[1;33m)\u001b[0m\u001b[1;33m\u001b[0m\u001b[1;33m\u001b[0m\u001b[0m\n\u001b[0m\u001b[0;32m    223\u001b[0m \u001b[1;33m\u001b[0m\u001b[0m\n\u001b[0;32m    224\u001b[0m \u001b[1;32mdef\u001b[0m \u001b[0minstall_opener\u001b[0m\u001b[1;33m(\u001b[0m\u001b[0mopener\u001b[0m\u001b[1;33m)\u001b[0m\u001b[1;33m:\u001b[0m\u001b[1;33m\u001b[0m\u001b[1;33m\u001b[0m\u001b[0m\n",
      "\u001b[1;32mc:\\users\\user\\appdata\\local\\programs\\python\\python38\\lib\\urllib\\request.py\u001b[0m in \u001b[0;36mopen\u001b[1;34m(self, fullurl, data, timeout)\u001b[0m\n\u001b[0;32m    529\u001b[0m         \u001b[1;32mfor\u001b[0m \u001b[0mprocessor\u001b[0m \u001b[1;32min\u001b[0m \u001b[0mself\u001b[0m\u001b[1;33m.\u001b[0m\u001b[0mprocess_response\u001b[0m\u001b[1;33m.\u001b[0m\u001b[0mget\u001b[0m\u001b[1;33m(\u001b[0m\u001b[0mprotocol\u001b[0m\u001b[1;33m,\u001b[0m \u001b[1;33m[\u001b[0m\u001b[1;33m]\u001b[0m\u001b[1;33m)\u001b[0m\u001b[1;33m:\u001b[0m\u001b[1;33m\u001b[0m\u001b[1;33m\u001b[0m\u001b[0m\n\u001b[0;32m    530\u001b[0m             \u001b[0mmeth\u001b[0m \u001b[1;33m=\u001b[0m \u001b[0mgetattr\u001b[0m\u001b[1;33m(\u001b[0m\u001b[0mprocessor\u001b[0m\u001b[1;33m,\u001b[0m \u001b[0mmeth_name\u001b[0m\u001b[1;33m)\u001b[0m\u001b[1;33m\u001b[0m\u001b[1;33m\u001b[0m\u001b[0m\n\u001b[1;32m--> 531\u001b[1;33m             \u001b[0mresponse\u001b[0m \u001b[1;33m=\u001b[0m \u001b[0mmeth\u001b[0m\u001b[1;33m(\u001b[0m\u001b[0mreq\u001b[0m\u001b[1;33m,\u001b[0m \u001b[0mresponse\u001b[0m\u001b[1;33m)\u001b[0m\u001b[1;33m\u001b[0m\u001b[1;33m\u001b[0m\u001b[0m\n\u001b[0m\u001b[0;32m    532\u001b[0m \u001b[1;33m\u001b[0m\u001b[0m\n\u001b[0;32m    533\u001b[0m         \u001b[1;32mreturn\u001b[0m \u001b[0mresponse\u001b[0m\u001b[1;33m\u001b[0m\u001b[1;33m\u001b[0m\u001b[0m\n",
      "\u001b[1;32mc:\\users\\user\\appdata\\local\\programs\\python\\python38\\lib\\urllib\\request.py\u001b[0m in \u001b[0;36mhttp_response\u001b[1;34m(self, request, response)\u001b[0m\n\u001b[0;32m    638\u001b[0m         \u001b[1;31m# request was successfully received, understood, and accepted.\u001b[0m\u001b[1;33m\u001b[0m\u001b[1;33m\u001b[0m\u001b[1;33m\u001b[0m\u001b[0m\n\u001b[0;32m    639\u001b[0m         \u001b[1;32mif\u001b[0m \u001b[1;32mnot\u001b[0m \u001b[1;33m(\u001b[0m\u001b[1;36m200\u001b[0m \u001b[1;33m<=\u001b[0m \u001b[0mcode\u001b[0m \u001b[1;33m<\u001b[0m \u001b[1;36m300\u001b[0m\u001b[1;33m)\u001b[0m\u001b[1;33m:\u001b[0m\u001b[1;33m\u001b[0m\u001b[1;33m\u001b[0m\u001b[0m\n\u001b[1;32m--> 640\u001b[1;33m             response = self.parent.error(\n\u001b[0m\u001b[0;32m    641\u001b[0m                 'http', request, response, code, msg, hdrs)\n\u001b[0;32m    642\u001b[0m \u001b[1;33m\u001b[0m\u001b[0m\n",
      "\u001b[1;32mc:\\users\\user\\appdata\\local\\programs\\python\\python38\\lib\\urllib\\request.py\u001b[0m in \u001b[0;36merror\u001b[1;34m(self, proto, *args)\u001b[0m\n\u001b[0;32m    567\u001b[0m         \u001b[1;32mif\u001b[0m \u001b[0mhttp_err\u001b[0m\u001b[1;33m:\u001b[0m\u001b[1;33m\u001b[0m\u001b[1;33m\u001b[0m\u001b[0m\n\u001b[0;32m    568\u001b[0m             \u001b[0margs\u001b[0m \u001b[1;33m=\u001b[0m \u001b[1;33m(\u001b[0m\u001b[0mdict\u001b[0m\u001b[1;33m,\u001b[0m \u001b[1;34m'default'\u001b[0m\u001b[1;33m,\u001b[0m \u001b[1;34m'http_error_default'\u001b[0m\u001b[1;33m)\u001b[0m \u001b[1;33m+\u001b[0m \u001b[0morig_args\u001b[0m\u001b[1;33m\u001b[0m\u001b[1;33m\u001b[0m\u001b[0m\n\u001b[1;32m--> 569\u001b[1;33m             \u001b[1;32mreturn\u001b[0m \u001b[0mself\u001b[0m\u001b[1;33m.\u001b[0m\u001b[0m_call_chain\u001b[0m\u001b[1;33m(\u001b[0m\u001b[1;33m*\u001b[0m\u001b[0margs\u001b[0m\u001b[1;33m)\u001b[0m\u001b[1;33m\u001b[0m\u001b[1;33m\u001b[0m\u001b[0m\n\u001b[0m\u001b[0;32m    570\u001b[0m \u001b[1;33m\u001b[0m\u001b[0m\n\u001b[0;32m    571\u001b[0m \u001b[1;31m# XXX probably also want an abstract factory that knows when it makes\u001b[0m\u001b[1;33m\u001b[0m\u001b[1;33m\u001b[0m\u001b[1;33m\u001b[0m\u001b[0m\n",
      "\u001b[1;32mc:\\users\\user\\appdata\\local\\programs\\python\\python38\\lib\\urllib\\request.py\u001b[0m in \u001b[0;36m_call_chain\u001b[1;34m(self, chain, kind, meth_name, *args)\u001b[0m\n\u001b[0;32m    500\u001b[0m         \u001b[1;32mfor\u001b[0m \u001b[0mhandler\u001b[0m \u001b[1;32min\u001b[0m \u001b[0mhandlers\u001b[0m\u001b[1;33m:\u001b[0m\u001b[1;33m\u001b[0m\u001b[1;33m\u001b[0m\u001b[0m\n\u001b[0;32m    501\u001b[0m             \u001b[0mfunc\u001b[0m \u001b[1;33m=\u001b[0m \u001b[0mgetattr\u001b[0m\u001b[1;33m(\u001b[0m\u001b[0mhandler\u001b[0m\u001b[1;33m,\u001b[0m \u001b[0mmeth_name\u001b[0m\u001b[1;33m)\u001b[0m\u001b[1;33m\u001b[0m\u001b[1;33m\u001b[0m\u001b[0m\n\u001b[1;32m--> 502\u001b[1;33m             \u001b[0mresult\u001b[0m \u001b[1;33m=\u001b[0m \u001b[0mfunc\u001b[0m\u001b[1;33m(\u001b[0m\u001b[1;33m*\u001b[0m\u001b[0margs\u001b[0m\u001b[1;33m)\u001b[0m\u001b[1;33m\u001b[0m\u001b[1;33m\u001b[0m\u001b[0m\n\u001b[0m\u001b[0;32m    503\u001b[0m             \u001b[1;32mif\u001b[0m \u001b[0mresult\u001b[0m \u001b[1;32mis\u001b[0m \u001b[1;32mnot\u001b[0m \u001b[1;32mNone\u001b[0m\u001b[1;33m:\u001b[0m\u001b[1;33m\u001b[0m\u001b[1;33m\u001b[0m\u001b[0m\n\u001b[0;32m    504\u001b[0m                 \u001b[1;32mreturn\u001b[0m \u001b[0mresult\u001b[0m\u001b[1;33m\u001b[0m\u001b[1;33m\u001b[0m\u001b[0m\n",
      "\u001b[1;32mc:\\users\\user\\appdata\\local\\programs\\python\\python38\\lib\\urllib\\request.py\u001b[0m in \u001b[0;36mhttp_error_default\u001b[1;34m(self, req, fp, code, msg, hdrs)\u001b[0m\n\u001b[0;32m    647\u001b[0m \u001b[1;32mclass\u001b[0m \u001b[0mHTTPDefaultErrorHandler\u001b[0m\u001b[1;33m(\u001b[0m\u001b[0mBaseHandler\u001b[0m\u001b[1;33m)\u001b[0m\u001b[1;33m:\u001b[0m\u001b[1;33m\u001b[0m\u001b[1;33m\u001b[0m\u001b[0m\n\u001b[0;32m    648\u001b[0m     \u001b[1;32mdef\u001b[0m \u001b[0mhttp_error_default\u001b[0m\u001b[1;33m(\u001b[0m\u001b[0mself\u001b[0m\u001b[1;33m,\u001b[0m \u001b[0mreq\u001b[0m\u001b[1;33m,\u001b[0m \u001b[0mfp\u001b[0m\u001b[1;33m,\u001b[0m \u001b[0mcode\u001b[0m\u001b[1;33m,\u001b[0m \u001b[0mmsg\u001b[0m\u001b[1;33m,\u001b[0m \u001b[0mhdrs\u001b[0m\u001b[1;33m)\u001b[0m\u001b[1;33m:\u001b[0m\u001b[1;33m\u001b[0m\u001b[1;33m\u001b[0m\u001b[0m\n\u001b[1;32m--> 649\u001b[1;33m         \u001b[1;32mraise\u001b[0m \u001b[0mHTTPError\u001b[0m\u001b[1;33m(\u001b[0m\u001b[0mreq\u001b[0m\u001b[1;33m.\u001b[0m\u001b[0mfull_url\u001b[0m\u001b[1;33m,\u001b[0m \u001b[0mcode\u001b[0m\u001b[1;33m,\u001b[0m \u001b[0mmsg\u001b[0m\u001b[1;33m,\u001b[0m \u001b[0mhdrs\u001b[0m\u001b[1;33m,\u001b[0m \u001b[0mfp\u001b[0m\u001b[1;33m)\u001b[0m\u001b[1;33m\u001b[0m\u001b[1;33m\u001b[0m\u001b[0m\n\u001b[0m\u001b[0;32m    650\u001b[0m \u001b[1;33m\u001b[0m\u001b[0m\n\u001b[0;32m    651\u001b[0m \u001b[1;32mclass\u001b[0m \u001b[0mHTTPRedirectHandler\u001b[0m\u001b[1;33m(\u001b[0m\u001b[0mBaseHandler\u001b[0m\u001b[1;33m)\u001b[0m\u001b[1;33m:\u001b[0m\u001b[1;33m\u001b[0m\u001b[1;33m\u001b[0m\u001b[0m\n",
      "\u001b[1;31mHTTPError\u001b[0m: HTTP Error 500: 500"
     ]
    }
   ],
   "source": [
    "import codecs\n",
    "from bs4 import BeautifulSoup\n",
    "from konlpy.tag import Twitter\n",
    "import urllib.request\n",
    "import os, re, json, random\n",
    "# 마르코프 체인 딕셔너리 만들기 --- (※1)\n",
    "def make_dic(words):\n",
    "    tmp = [\"@\"]\n",
    "    dic = {}\n",
    "    for word in words:\n",
    "        tmp.append(word)\n",
    "        if len(tmp) < 3: continue\n",
    "        if len(tmp) > 3: tmp = tmp[1:]\n",
    "        set_word3(dic, tmp)\n",
    "        if word == \".\":\n",
    "            tmp = [\"@\"]\n",
    "            continue\n",
    "    return dic\n",
    "# 딕셔너리에 데이터 등록하기 --- (※2)\n",
    "def set_word3(dic, s3):\n",
    "    w1, w2, w3 = s3\n",
    "    if not w1 in dic: dic[w1] = {}\n",
    "    if not w2 in dic[w1]: dic[w1][w2] = {}\n",
    "    if not w3 in dic[w1][w2]: dic[w1][w2][w3] = 0\n",
    "    dic[w1][w2][w3] += 1\n",
    "# 문장 만들기 --- (※3)\n",
    "def make_sentence(dic):\n",
    "    ret = []\n",
    "    if not \"@\" in dic: return \"no dic\" \n",
    "    top = dic[\"@\"]\n",
    "    w1 = word_choice(top)\n",
    "    w2 = word_choice(top[w1])\n",
    "    ret.append(w1)\n",
    "    ret.append(w2)\n",
    "    while True:\n",
    "        w3 = word_choice(dic[w1][w2])\n",
    "        ret.append(w3)\n",
    "        if w3 == \".\": break\n",
    "        w1, w2 = w2, w3\n",
    "    ret = \"\".join(ret)\n",
    "    # 띄어쓰기\n",
    "    params = urllib.parse.urlencode({\n",
    "        \"_callback\": \"\",\n",
    "        \"q\": ret\n",
    "    })\n",
    "    # 네이버 맞춤법 검사기를 사용합니다.\n",
    "    data = urllib.request.urlopen(\"https://m.search.naver.com/p/csearch/ocontent/util/SpellerProxy?\" + params)\n",
    "    data = data.read().decode(\"utf-8\")[1:-2]\n",
    "    data = json.loads(data)\n",
    "    data = data[\"message\"][\"result\"][\"html\"]\n",
    "    data = soup = BeautifulSoup(data, \"html.parser\").getText()\n",
    "    # 리턴\n",
    "    return data\n",
    "def word_choice(sel):\n",
    "    keys = sel.keys()\n",
    "    return random.choice(list(keys))\n",
    "# 문장 읽어 들이기 --- (※4)\n",
    "toji_file = \"toji.txt\"\n",
    "dict_file = \"markov-toji.json\"\n",
    "if not os.path.exists(dict_file):\n",
    "    # 토지 텍스트 파일 읽어 들이기\n",
    "    fp = codecs.open(\"BEXX0003.txt\", \"r\", encoding=\"utf-16\")\n",
    "    soup = BeautifulSoup(fp, \"html.parser\")\n",
    "    body = soup.select_one(\"body > text\")\n",
    "    text = body.getText()\n",
    "    text = text.replace(\"…\", \"\") # 현재 koNLPy가 …을 구두점으로 잡지 못하는 문제 임시 해결\n",
    "    # 형태소 분석\n",
    "    twitter = Twitter()\n",
    "    malist = twitter.pos(text, norm=True)\n",
    "    words = []\n",
    "    for word in malist:\n",
    "        # 구두점 등은 대상에서 제외(단 마침표는 포함)\n",
    "        if not word[1] in [\"Punctuation\"]:\n",
    "            words.append(word[0])\n",
    "        if word[0] == \".\":\n",
    "            words.append(word[0])\n",
    "    # 딕셔너리 생성\n",
    "    dic = make_dic(words)\n",
    "    json.dump(dic, open(dict_file,\"w\", encoding=\"utf-8\"))\n",
    "else:\n",
    "    dic = json.load(open(dict_file,\"r\"))\n",
    "# 문장 만들기 --- (※6)\n",
    "for i in range(3):\n",
    "    s = make_sentence(dic)\n",
    "    print(s)\n",
    "    print(\"---\")"
   ]
  },
  {
   "cell_type": "code",
   "execution_count": 6,
   "id": "3b6438e5",
   "metadata": {},
   "outputs": [
    {
     "name": "stdout",
     "output_type": "stream",
     "text": [
      "{'들': {'을': 1},\n",
      " '마라': {'\\n': 3, '.': 3},\n",
      " '말': {'게': 1},\n",
      " '말고': {'마저': 1, '처': 1},\n",
      " '은': {'마라': 2, '안': 1},\n",
      " '을': {'다': 1},\n",
      " '이': {'없을': 1, '요': 1, '있고': 1, '있더라고': 1},\n",
      " '이고': {'\\n': 1, '송장': 1},\n",
      " '이다': {'그': 1},\n",
      " '이며': {'이윽고': 1},\n",
      " '이제': {'.': 1},\n",
      " '일세': {'.': 1},\n",
      " '하실': {'것': 1},\n",
      " '할': {'것': 1}}\n"
     ]
    }
   ],
   "source": [
    "from pprint import pprint\n",
    "import json\n",
    "dic = json.load(open(\"markov-toji.json\",\"r\"))\n",
    "pprint(dic[\"걱정\"])"
   ]
  },
  {
   "cell_type": "code",
   "execution_count": 5,
   "id": "ccfd8912",
   "metadata": {},
   "outputs": [
    {
     "name": "stdout",
     "output_type": "stream",
     "text": [
      "코퍼스의 길이:  311682\n",
      "사용되고 있는 문자의 수: 1692\n",
      "학습할 구문의 수: 103888\n",
      "텍스트를 ID 벡터로 변환합니다...\n"
     ]
    },
    {
     "name": "stderr",
     "output_type": "stream",
     "text": [
      "C:\\Users\\user\\AppData\\Local\\Temp/ipykernel_11404/1203414326.py:30: DeprecationWarning: `np.bool` is a deprecated alias for the builtin `bool`. To silence this warning, use `bool` by itself. Doing this will not modify any behavior and is safe. If you specifically wanted the numpy scalar type, use `np.bool_` here.\n",
      "Deprecated in NumPy 1.20; for more details and guidance: https://numpy.org/devdocs/release/1.20.0-notes.html#deprecations\n",
      "  X = np.zeros((len(sentences), maxlen, len(chars)), dtype=np.bool)\n",
      "C:\\Users\\user\\AppData\\Local\\Temp/ipykernel_11404/1203414326.py:31: DeprecationWarning: `np.bool` is a deprecated alias for the builtin `bool`. To silence this warning, use `bool` by itself. Doing this will not modify any behavior and is safe. If you specifically wanted the numpy scalar type, use `np.bool_` here.\n",
      "Deprecated in NumPy 1.20; for more details and guidance: https://numpy.org/devdocs/release/1.20.0-notes.html#deprecations\n",
      "  y = np.zeros((len(sentences), len(chars)), dtype=np.bool)\n"
     ]
    },
    {
     "name": "stdout",
     "output_type": "stream",
     "text": [
      "모델을 구축합니다...\n"
     ]
    },
    {
     "name": "stderr",
     "output_type": "stream",
     "text": [
      "c:\\users\\user\\appdata\\local\\programs\\python\\python38\\lib\\site-packages\\keras\\optimizer_v2\\rmsprop.py:130: UserWarning: The `lr` argument is deprecated, use `learning_rate` instead.\n",
      "  super(RMSprop, self).__init__(name, **kwargs)\n"
     ]
    },
    {
     "name": "stdout",
     "output_type": "stream",
     "text": [
      "\n",
      "--------------------------------------------------\n",
      "반복 = 1\n",
      "655/812 [=======================>......] - ETA: 15s - loss: 3.9026"
     ]
    },
    {
     "ename": "KeyboardInterrupt",
     "evalue": "",
     "output_type": "error",
     "traceback": [
      "\u001b[1;31m---------------------------------------------------------------------------\u001b[0m",
      "\u001b[1;31mKeyboardInterrupt\u001b[0m                         Traceback (most recent call last)",
      "\u001b[1;32m~\\AppData\\Local\\Temp/ipykernel_11404/1203414326.py\u001b[0m in \u001b[0;36m<module>\u001b[1;34m\u001b[0m\n\u001b[0;32m     55\u001b[0m     \u001b[0mprint\u001b[0m\u001b[1;33m(\u001b[0m\u001b[1;34m'-'\u001b[0m \u001b[1;33m*\u001b[0m \u001b[1;36m50\u001b[0m\u001b[1;33m)\u001b[0m\u001b[1;33m\u001b[0m\u001b[1;33m\u001b[0m\u001b[0m\n\u001b[0;32m     56\u001b[0m     \u001b[0mprint\u001b[0m\u001b[1;33m(\u001b[0m\u001b[1;34m'반복 ='\u001b[0m\u001b[1;33m,\u001b[0m \u001b[0miteration\u001b[0m\u001b[1;33m)\u001b[0m\u001b[1;33m\u001b[0m\u001b[1;33m\u001b[0m\u001b[0m\n\u001b[1;32m---> 57\u001b[1;33m     \u001b[0mmodel\u001b[0m\u001b[1;33m.\u001b[0m\u001b[0mfit\u001b[0m\u001b[1;33m(\u001b[0m\u001b[0mX\u001b[0m\u001b[1;33m,\u001b[0m \u001b[0my\u001b[0m\u001b[1;33m,\u001b[0m \u001b[0mbatch_size\u001b[0m\u001b[1;33m=\u001b[0m\u001b[1;36m128\u001b[0m\u001b[1;33m)\u001b[0m \u001b[1;31m#\u001b[0m\u001b[1;33m\u001b[0m\u001b[1;33m\u001b[0m\u001b[0m\n\u001b[0m\u001b[0;32m     58\u001b[0m     \u001b[1;31m# 임의의 시작 텍스트 선택하기\u001b[0m\u001b[1;33m\u001b[0m\u001b[1;33m\u001b[0m\u001b[1;33m\u001b[0m\u001b[0m\n\u001b[0;32m     59\u001b[0m     \u001b[0mstart_index\u001b[0m \u001b[1;33m=\u001b[0m \u001b[0mrandom\u001b[0m\u001b[1;33m.\u001b[0m\u001b[0mrandint\u001b[0m\u001b[1;33m(\u001b[0m\u001b[1;36m0\u001b[0m\u001b[1;33m,\u001b[0m \u001b[0mlen\u001b[0m\u001b[1;33m(\u001b[0m\u001b[0mtext\u001b[0m\u001b[1;33m)\u001b[0m \u001b[1;33m-\u001b[0m \u001b[0mmaxlen\u001b[0m \u001b[1;33m-\u001b[0m \u001b[1;36m1\u001b[0m\u001b[1;33m)\u001b[0m\u001b[1;33m\u001b[0m\u001b[1;33m\u001b[0m\u001b[0m\n",
      "\u001b[1;32mc:\\users\\user\\appdata\\local\\programs\\python\\python38\\lib\\site-packages\\keras\\utils\\traceback_utils.py\u001b[0m in \u001b[0;36merror_handler\u001b[1;34m(*args, **kwargs)\u001b[0m\n\u001b[0;32m     62\u001b[0m     \u001b[0mfiltered_tb\u001b[0m \u001b[1;33m=\u001b[0m \u001b[1;32mNone\u001b[0m\u001b[1;33m\u001b[0m\u001b[1;33m\u001b[0m\u001b[0m\n\u001b[0;32m     63\u001b[0m     \u001b[1;32mtry\u001b[0m\u001b[1;33m:\u001b[0m\u001b[1;33m\u001b[0m\u001b[1;33m\u001b[0m\u001b[0m\n\u001b[1;32m---> 64\u001b[1;33m       \u001b[1;32mreturn\u001b[0m \u001b[0mfn\u001b[0m\u001b[1;33m(\u001b[0m\u001b[1;33m*\u001b[0m\u001b[0margs\u001b[0m\u001b[1;33m,\u001b[0m \u001b[1;33m**\u001b[0m\u001b[0mkwargs\u001b[0m\u001b[1;33m)\u001b[0m\u001b[1;33m\u001b[0m\u001b[1;33m\u001b[0m\u001b[0m\n\u001b[0m\u001b[0;32m     65\u001b[0m     \u001b[1;32mexcept\u001b[0m \u001b[0mException\u001b[0m \u001b[1;32mas\u001b[0m \u001b[0me\u001b[0m\u001b[1;33m:\u001b[0m  \u001b[1;31m# pylint: disable=broad-except\u001b[0m\u001b[1;33m\u001b[0m\u001b[1;33m\u001b[0m\u001b[0m\n\u001b[0;32m     66\u001b[0m       \u001b[0mfiltered_tb\u001b[0m \u001b[1;33m=\u001b[0m \u001b[0m_process_traceback_frames\u001b[0m\u001b[1;33m(\u001b[0m\u001b[0me\u001b[0m\u001b[1;33m.\u001b[0m\u001b[0m__traceback__\u001b[0m\u001b[1;33m)\u001b[0m\u001b[1;33m\u001b[0m\u001b[1;33m\u001b[0m\u001b[0m\n",
      "\u001b[1;32mc:\\users\\user\\appdata\\local\\programs\\python\\python38\\lib\\site-packages\\keras\\engine\\training.py\u001b[0m in \u001b[0;36mfit\u001b[1;34m(self, x, y, batch_size, epochs, verbose, callbacks, validation_split, validation_data, shuffle, class_weight, sample_weight, initial_epoch, steps_per_epoch, validation_steps, validation_batch_size, validation_freq, max_queue_size, workers, use_multiprocessing)\u001b[0m\n\u001b[0;32m   1214\u001b[0m                 _r=1):\n\u001b[0;32m   1215\u001b[0m               \u001b[0mcallbacks\u001b[0m\u001b[1;33m.\u001b[0m\u001b[0mon_train_batch_begin\u001b[0m\u001b[1;33m(\u001b[0m\u001b[0mstep\u001b[0m\u001b[1;33m)\u001b[0m\u001b[1;33m\u001b[0m\u001b[1;33m\u001b[0m\u001b[0m\n\u001b[1;32m-> 1216\u001b[1;33m               \u001b[0mtmp_logs\u001b[0m \u001b[1;33m=\u001b[0m \u001b[0mself\u001b[0m\u001b[1;33m.\u001b[0m\u001b[0mtrain_function\u001b[0m\u001b[1;33m(\u001b[0m\u001b[0miterator\u001b[0m\u001b[1;33m)\u001b[0m\u001b[1;33m\u001b[0m\u001b[1;33m\u001b[0m\u001b[0m\n\u001b[0m\u001b[0;32m   1217\u001b[0m               \u001b[1;32mif\u001b[0m \u001b[0mdata_handler\u001b[0m\u001b[1;33m.\u001b[0m\u001b[0mshould_sync\u001b[0m\u001b[1;33m:\u001b[0m\u001b[1;33m\u001b[0m\u001b[1;33m\u001b[0m\u001b[0m\n\u001b[0;32m   1218\u001b[0m                 \u001b[0mcontext\u001b[0m\u001b[1;33m.\u001b[0m\u001b[0masync_wait\u001b[0m\u001b[1;33m(\u001b[0m\u001b[1;33m)\u001b[0m\u001b[1;33m\u001b[0m\u001b[1;33m\u001b[0m\u001b[0m\n",
      "\u001b[1;32m~\\AppData\\Roaming\\Python\\Python38\\site-packages\\tensorflow\\python\\util\\traceback_utils.py\u001b[0m in \u001b[0;36merror_handler\u001b[1;34m(*args, **kwargs)\u001b[0m\n\u001b[0;32m    148\u001b[0m     \u001b[0mfiltered_tb\u001b[0m \u001b[1;33m=\u001b[0m \u001b[1;32mNone\u001b[0m\u001b[1;33m\u001b[0m\u001b[1;33m\u001b[0m\u001b[0m\n\u001b[0;32m    149\u001b[0m     \u001b[1;32mtry\u001b[0m\u001b[1;33m:\u001b[0m\u001b[1;33m\u001b[0m\u001b[1;33m\u001b[0m\u001b[0m\n\u001b[1;32m--> 150\u001b[1;33m       \u001b[1;32mreturn\u001b[0m \u001b[0mfn\u001b[0m\u001b[1;33m(\u001b[0m\u001b[1;33m*\u001b[0m\u001b[0margs\u001b[0m\u001b[1;33m,\u001b[0m \u001b[1;33m**\u001b[0m\u001b[0mkwargs\u001b[0m\u001b[1;33m)\u001b[0m\u001b[1;33m\u001b[0m\u001b[1;33m\u001b[0m\u001b[0m\n\u001b[0m\u001b[0;32m    151\u001b[0m     \u001b[1;32mexcept\u001b[0m \u001b[0mException\u001b[0m \u001b[1;32mas\u001b[0m \u001b[0me\u001b[0m\u001b[1;33m:\u001b[0m\u001b[1;33m\u001b[0m\u001b[1;33m\u001b[0m\u001b[0m\n\u001b[0;32m    152\u001b[0m       \u001b[0mfiltered_tb\u001b[0m \u001b[1;33m=\u001b[0m \u001b[0m_process_traceback_frames\u001b[0m\u001b[1;33m(\u001b[0m\u001b[0me\u001b[0m\u001b[1;33m.\u001b[0m\u001b[0m__traceback__\u001b[0m\u001b[1;33m)\u001b[0m\u001b[1;33m\u001b[0m\u001b[1;33m\u001b[0m\u001b[0m\n",
      "\u001b[1;32m~\\AppData\\Roaming\\Python\\Python38\\site-packages\\tensorflow\\python\\eager\\def_function.py\u001b[0m in \u001b[0;36m__call__\u001b[1;34m(self, *args, **kwds)\u001b[0m\n\u001b[0;32m    908\u001b[0m \u001b[1;33m\u001b[0m\u001b[0m\n\u001b[0;32m    909\u001b[0m       \u001b[1;32mwith\u001b[0m \u001b[0mOptionalXlaContext\u001b[0m\u001b[1;33m(\u001b[0m\u001b[0mself\u001b[0m\u001b[1;33m.\u001b[0m\u001b[0m_jit_compile\u001b[0m\u001b[1;33m)\u001b[0m\u001b[1;33m:\u001b[0m\u001b[1;33m\u001b[0m\u001b[1;33m\u001b[0m\u001b[0m\n\u001b[1;32m--> 910\u001b[1;33m         \u001b[0mresult\u001b[0m \u001b[1;33m=\u001b[0m \u001b[0mself\u001b[0m\u001b[1;33m.\u001b[0m\u001b[0m_call\u001b[0m\u001b[1;33m(\u001b[0m\u001b[1;33m*\u001b[0m\u001b[0margs\u001b[0m\u001b[1;33m,\u001b[0m \u001b[1;33m**\u001b[0m\u001b[0mkwds\u001b[0m\u001b[1;33m)\u001b[0m\u001b[1;33m\u001b[0m\u001b[1;33m\u001b[0m\u001b[0m\n\u001b[0m\u001b[0;32m    911\u001b[0m \u001b[1;33m\u001b[0m\u001b[0m\n\u001b[0;32m    912\u001b[0m       \u001b[0mnew_tracing_count\u001b[0m \u001b[1;33m=\u001b[0m \u001b[0mself\u001b[0m\u001b[1;33m.\u001b[0m\u001b[0mexperimental_get_tracing_count\u001b[0m\u001b[1;33m(\u001b[0m\u001b[1;33m)\u001b[0m\u001b[1;33m\u001b[0m\u001b[1;33m\u001b[0m\u001b[0m\n",
      "\u001b[1;32m~\\AppData\\Roaming\\Python\\Python38\\site-packages\\tensorflow\\python\\eager\\def_function.py\u001b[0m in \u001b[0;36m_call\u001b[1;34m(self, *args, **kwds)\u001b[0m\n\u001b[0;32m    940\u001b[0m       \u001b[1;31m# In this case we have created variables on the first call, so we run the\u001b[0m\u001b[1;33m\u001b[0m\u001b[1;33m\u001b[0m\u001b[1;33m\u001b[0m\u001b[0m\n\u001b[0;32m    941\u001b[0m       \u001b[1;31m# defunned version which is guaranteed to never create variables.\u001b[0m\u001b[1;33m\u001b[0m\u001b[1;33m\u001b[0m\u001b[1;33m\u001b[0m\u001b[0m\n\u001b[1;32m--> 942\u001b[1;33m       \u001b[1;32mreturn\u001b[0m \u001b[0mself\u001b[0m\u001b[1;33m.\u001b[0m\u001b[0m_stateless_fn\u001b[0m\u001b[1;33m(\u001b[0m\u001b[1;33m*\u001b[0m\u001b[0margs\u001b[0m\u001b[1;33m,\u001b[0m \u001b[1;33m**\u001b[0m\u001b[0mkwds\u001b[0m\u001b[1;33m)\u001b[0m  \u001b[1;31m# pylint: disable=not-callable\u001b[0m\u001b[1;33m\u001b[0m\u001b[1;33m\u001b[0m\u001b[0m\n\u001b[0m\u001b[0;32m    943\u001b[0m     \u001b[1;32melif\u001b[0m \u001b[0mself\u001b[0m\u001b[1;33m.\u001b[0m\u001b[0m_stateful_fn\u001b[0m \u001b[1;32mis\u001b[0m \u001b[1;32mnot\u001b[0m \u001b[1;32mNone\u001b[0m\u001b[1;33m:\u001b[0m\u001b[1;33m\u001b[0m\u001b[1;33m\u001b[0m\u001b[0m\n\u001b[0;32m    944\u001b[0m       \u001b[1;31m# Release the lock early so that multiple threads can perform the call\u001b[0m\u001b[1;33m\u001b[0m\u001b[1;33m\u001b[0m\u001b[1;33m\u001b[0m\u001b[0m\n",
      "\u001b[1;32m~\\AppData\\Roaming\\Python\\Python38\\site-packages\\tensorflow\\python\\eager\\function.py\u001b[0m in \u001b[0;36m__call__\u001b[1;34m(self, *args, **kwargs)\u001b[0m\n\u001b[0;32m   3128\u001b[0m       (graph_function,\n\u001b[0;32m   3129\u001b[0m        filtered_flat_args) = self._maybe_define_function(args, kwargs)\n\u001b[1;32m-> 3130\u001b[1;33m     return graph_function._call_flat(\n\u001b[0m\u001b[0;32m   3131\u001b[0m         filtered_flat_args, captured_inputs=graph_function.captured_inputs)  # pylint: disable=protected-access\n\u001b[0;32m   3132\u001b[0m \u001b[1;33m\u001b[0m\u001b[0m\n",
      "\u001b[1;32m~\\AppData\\Roaming\\Python\\Python38\\site-packages\\tensorflow\\python\\eager\\function.py\u001b[0m in \u001b[0;36m_call_flat\u001b[1;34m(self, args, captured_inputs, cancellation_manager)\u001b[0m\n\u001b[0;32m   1957\u001b[0m         and executing_eagerly):\n\u001b[0;32m   1958\u001b[0m       \u001b[1;31m# No tape is watching; skip to running the function.\u001b[0m\u001b[1;33m\u001b[0m\u001b[1;33m\u001b[0m\u001b[1;33m\u001b[0m\u001b[0m\n\u001b[1;32m-> 1959\u001b[1;33m       return self._build_call_outputs(self._inference_function.call(\n\u001b[0m\u001b[0;32m   1960\u001b[0m           ctx, args, cancellation_manager=cancellation_manager))\n\u001b[0;32m   1961\u001b[0m     forward_backward = self._select_forward_and_backward_functions(\n",
      "\u001b[1;32m~\\AppData\\Roaming\\Python\\Python38\\site-packages\\tensorflow\\python\\eager\\function.py\u001b[0m in \u001b[0;36mcall\u001b[1;34m(self, ctx, args, cancellation_manager)\u001b[0m\n\u001b[0;32m    596\u001b[0m       \u001b[1;32mwith\u001b[0m \u001b[0m_InterpolateFunctionError\u001b[0m\u001b[1;33m(\u001b[0m\u001b[0mself\u001b[0m\u001b[1;33m)\u001b[0m\u001b[1;33m:\u001b[0m\u001b[1;33m\u001b[0m\u001b[1;33m\u001b[0m\u001b[0m\n\u001b[0;32m    597\u001b[0m         \u001b[1;32mif\u001b[0m \u001b[0mcancellation_manager\u001b[0m \u001b[1;32mis\u001b[0m \u001b[1;32mNone\u001b[0m\u001b[1;33m:\u001b[0m\u001b[1;33m\u001b[0m\u001b[1;33m\u001b[0m\u001b[0m\n\u001b[1;32m--> 598\u001b[1;33m           outputs = execute.execute(\n\u001b[0m\u001b[0;32m    599\u001b[0m               \u001b[0mstr\u001b[0m\u001b[1;33m(\u001b[0m\u001b[0mself\u001b[0m\u001b[1;33m.\u001b[0m\u001b[0msignature\u001b[0m\u001b[1;33m.\u001b[0m\u001b[0mname\u001b[0m\u001b[1;33m)\u001b[0m\u001b[1;33m,\u001b[0m\u001b[1;33m\u001b[0m\u001b[1;33m\u001b[0m\u001b[0m\n\u001b[0;32m    600\u001b[0m               \u001b[0mnum_outputs\u001b[0m\u001b[1;33m=\u001b[0m\u001b[0mself\u001b[0m\u001b[1;33m.\u001b[0m\u001b[0m_num_outputs\u001b[0m\u001b[1;33m,\u001b[0m\u001b[1;33m\u001b[0m\u001b[1;33m\u001b[0m\u001b[0m\n",
      "\u001b[1;32m~\\AppData\\Roaming\\Python\\Python38\\site-packages\\tensorflow\\python\\eager\\execute.py\u001b[0m in \u001b[0;36mquick_execute\u001b[1;34m(op_name, num_outputs, inputs, attrs, ctx, name)\u001b[0m\n\u001b[0;32m     56\u001b[0m   \u001b[1;32mtry\u001b[0m\u001b[1;33m:\u001b[0m\u001b[1;33m\u001b[0m\u001b[1;33m\u001b[0m\u001b[0m\n\u001b[0;32m     57\u001b[0m     \u001b[0mctx\u001b[0m\u001b[1;33m.\u001b[0m\u001b[0mensure_initialized\u001b[0m\u001b[1;33m(\u001b[0m\u001b[1;33m)\u001b[0m\u001b[1;33m\u001b[0m\u001b[1;33m\u001b[0m\u001b[0m\n\u001b[1;32m---> 58\u001b[1;33m     tensors = pywrap_tfe.TFE_Py_Execute(ctx._handle, device_name, op_name,\n\u001b[0m\u001b[0;32m     59\u001b[0m                                         inputs, attrs, num_outputs)\n\u001b[0;32m     60\u001b[0m   \u001b[1;32mexcept\u001b[0m \u001b[0mcore\u001b[0m\u001b[1;33m.\u001b[0m\u001b[0m_NotOkStatusException\u001b[0m \u001b[1;32mas\u001b[0m \u001b[0me\u001b[0m\u001b[1;33m:\u001b[0m\u001b[1;33m\u001b[0m\u001b[1;33m\u001b[0m\u001b[0m\n",
      "\u001b[1;31mKeyboardInterrupt\u001b[0m: "
     ]
    }
   ],
   "source": [
    "import codecs\n",
    "from bs4 import BeautifulSoup\n",
    "from keras.models import Sequential\n",
    "from keras.layers import Dense, Activation, Dropout\n",
    "from keras.layers import LSTM\n",
    "from tensorflow.keras.optimizers import RMSprop\n",
    "from keras.utils.data_utils import get_file\n",
    "import numpy as np\n",
    "import random, sys\n",
    "fp = codecs.open(\"./BEXX0003.txt\", \"r\", encoding=\"utf-16\")\n",
    "soup = BeautifulSoup(fp, \"html.parser\")\n",
    "body = soup.select_one(\"body\")\n",
    "text = body.getText() + \" \"\n",
    "print('코퍼스의 길이: ', len(text))\n",
    "# 문자를 하나하나 읽어 들이고 ID 붙이기\n",
    "chars = sorted(list(set(text)))\n",
    "print('사용되고 있는 문자의 수:', len(chars))\n",
    "char_indices = dict((c, i) for i, c in enumerate(chars)) # 문자 → ID\n",
    "indices_char = dict((i, c) for i, c in enumerate(chars)) # ID → 문자\n",
    "# 텍스트를 maxlen개의 문자로 자르고 다음에 오는 문자 등록하기\n",
    "maxlen = 20\n",
    "step = 3\n",
    "sentences = []\n",
    "next_chars = []\n",
    "for i in range(0, len(text) - maxlen, step):\n",
    "    sentences.append(text[i: i + maxlen])\n",
    "    next_chars.append(text[i + maxlen])\n",
    "print('학습할 구문의 수:', len(sentences))\n",
    "print('텍스트를 ID 벡터로 변환합니다...')\n",
    "X = np.zeros((len(sentences), maxlen, len(chars)), dtype=np.bool)\n",
    "y = np.zeros((len(sentences), len(chars)), dtype=np.bool)\n",
    "for i, sentence in enumerate(sentences):\n",
    "    for t, char in enumerate(sentence):\n",
    "        X[i, t, char_indices[char]] = 1\n",
    "    y[i, char_indices[next_chars[i]]] = 1\n",
    "# 모델 구축하기(LSTM)\n",
    "print('모델을 구축합니다...')\n",
    "model = Sequential()\n",
    "model.add(LSTM(128, input_shape=(maxlen, len(chars))))\n",
    "model.add(Dense(len(chars)))\n",
    "model.add(Activation('softmax'))\n",
    "optimizer = RMSprop(lr=0.01)\n",
    "model.compile(loss='categorical_crossentropy', optimizer=optimizer)\n",
    "# 후보를 배열에서 꺼내기\n",
    "def sample(preds, temperature=1.0):\n",
    "    preds = np.asarray(preds).astype('float64')\n",
    "    preds = np.log(preds) / temperature\n",
    "    exp_preds = np.exp(preds)\n",
    "    preds = exp_preds / np.sum(exp_preds)\n",
    "    probas = np.random.multinomial(1, preds, 1)\n",
    "    return np.argmax(probas)\n",
    "# 학습시키고 텍스트 생성하기 반복\n",
    "for iteration in range(1, 60):\n",
    "    print()\n",
    "    print('-' * 50)\n",
    "    print('반복 =', iteration)\n",
    "    model.fit(X, y, batch_size=128) # \n",
    "    # 임의의 시작 텍스트 선택하기\n",
    "    start_index = random.randint(0, len(text) - maxlen - 1)\n",
    "    # 다양한 다양성의 문장 생성\n",
    "    for diversity in [0.2, 0.5, 1.0, 1.2]:\n",
    "        print()\n",
    "        print('--- 다양성 = ', diversity)\n",
    "        generated = ''\n",
    "        sentence = text[start_index: start_index + maxlen]\n",
    "        generated += sentence\n",
    "        print('--- 시드 = \"' + sentence + '\"')\n",
    "        sys.stdout.write(generated)\n",
    "        # 시드를 기반으로 텍스트 자동 생성\n",
    "        for i in range(400):\n",
    "            x = np.zeros((1, maxlen, len(chars)))\n",
    "            for t, char in enumerate(sentence):\n",
    "                x[0, t, char_indices[char]] = 1.\n",
    "            # 다음에 올 문자를 예측하기\n",
    "            preds = model.predict(x, verbose=0)[0]\n",
    "            next_index = sample(preds, diversity)\n",
    "            next_char = indices_char[next_index]\n",
    "            # 출력하기\n",
    "            generated += next_char\n",
    "            sentence = sentence[1:] + next_char\n",
    "            sys.stdout.write(next_char)\n",
    "            sys.stdout.flush()\n",
    "        print()"
   ]
  },
  {
   "cell_type": "code",
   "execution_count": 7,
   "id": "7b10380f",
   "metadata": {},
   "outputs": [
    {
     "ename": "ModuleNotFoundError",
     "evalue": "No module named 'botengine'",
     "output_type": "error",
     "traceback": [
      "\u001b[1;31m---------------------------------------------------------------------------\u001b[0m",
      "\u001b[1;31mModuleNotFoundError\u001b[0m                       Traceback (most recent call last)",
      "\u001b[1;32m~\\AppData\\Local\\Temp/ipykernel_11404/2784743146.py\u001b[0m in \u001b[0;36m<module>\u001b[1;34m\u001b[0m\n\u001b[0;32m      1\u001b[0m \u001b[1;31m#!/usr/bin/env python3\u001b[0m\u001b[1;33m\u001b[0m\u001b[1;33m\u001b[0m\u001b[1;33m\u001b[0m\u001b[0m\n\u001b[0;32m      2\u001b[0m \u001b[1;32mimport\u001b[0m \u001b[0mcgi\u001b[0m\u001b[1;33m\u001b[0m\u001b[1;33m\u001b[0m\u001b[0m\n\u001b[1;32m----> 3\u001b[1;33m \u001b[1;32mfrom\u001b[0m \u001b[0mbotengine\u001b[0m \u001b[1;32mimport\u001b[0m \u001b[0mmake_reply\u001b[0m\u001b[1;33m\u001b[0m\u001b[1;33m\u001b[0m\u001b[0m\n\u001b[0m\u001b[0;32m      4\u001b[0m \u001b[1;33m\u001b[0m\u001b[0m\n\u001b[0;32m      5\u001b[0m \u001b[1;31m# 입력 양식의 글자 추출하기 --- (※1)\u001b[0m\u001b[1;33m\u001b[0m\u001b[1;33m\u001b[0m\u001b[1;33m\u001b[0m\u001b[0m\n",
      "\u001b[1;31mModuleNotFoundError\u001b[0m: No module named 'botengine'"
     ]
    }
   ],
   "source": [
    "#!/usr/bin/env python3\n",
    "import cgi\n",
    "from pip  import make_reply\n",
    "\n",
    "# 입력 양식의 글자 추출하기 --- (※1)\n",
    "form = cgi.FieldStorage()\n",
    "\n",
    "# 메인 처리 --- (※2)\n",
    "def main():\n",
    "    m = form.getvalue(\"m\", default=\"\")\n",
    "    if   m == \"\" : show_form()\n",
    "    elif m == \"say\" : api_say()\n",
    "\n",
    "# 사용자의 입력에 응답하기 --- (※3)\n",
    "def api_say():\n",
    "    print(\"Content-Type: text/plain; charset=utf-8\")\n",
    "    print(\"\")\n",
    "    txt = form.getvalue(\"txt\", default=\"\")\n",
    "    if txt == \"\": return\n",
    "    res = make_reply(txt)\n",
    "    print(res)\n",
    "\n",
    "# 입력 양식 출력하기 --- (※4)\n",
    "def show_form():\n",
    "    print(\"Content-Type: text/html; charset=utf-8\")\n",
    "    print(\"\")\n",
    "    print(\"\"\"\n",
    "    <html><meta charset=\"utf-8\"><body>\n",
    "    <script src=\"https://code.jquery.com/jquery-3.1.1.min.js\"></script>\n",
    "    <style>\n",
    "        h1   { background-color: #ffe0e0; }\n",
    "        div  { padding:10px; }\n",
    "        span { border-radius: 10px; background-color: #ffe0e0; padding:8px; }\n",
    "        .bot { text-align: left; }\n",
    "        .usr { text-align: right; }\n",
    "    </style>\n",
    "    <h1>대화하기</h1>\n",
    "    <div id=\"chat\"></div>\n",
    "    <div class='usr'><input id=\"txt\" size=\"40\">\n",
    "    <button onclick=\"say()\">전송</button></div>\n",
    "    <script>\n",
    "    var url = \"./chatbot.py\";\n",
    "    function say() {\n",
    "      var txt = $('#txt').val();\n",
    "      $.get(url, {\"m\":\"say\",\"txt\":txt},\n",
    "        function(res) {\n",
    "          var html = \"<div class='usr'><span>\" + esc(txt) +\n",
    "            \"</span>: 나</div><div class='bot'> 봇:<span>\" + \n",
    "            esc(res) + \"</span></div>\";\n",
    "          $('#chat').html($('#chat').html()+html);\n",
    "          $('#txt').val('').focus();\n",
    "        });\n",
    "    }\n",
    "    function esc(s) {\n",
    "        return s.replace('&', '&amp;').replace('<','&lt;')\n",
    "                .replace('>', '&gt;');\n",
    "    }\n",
    "    </script></body></html>\n",
    "    \"\"\")\n",
    "\n",
    "main()"
   ]
  },
  {
   "cell_type": "code",
   "execution_count": null,
   "id": "e046f4a9",
   "metadata": {},
   "outputs": [],
   "source": [
    "import codecs\n",
    "from bs4 import BeautifulSoup\n",
    "import urllib.request\n",
    "from konlpy.tag import Twitter\n",
    "import os, re, json, random\n",
    "dict_file = \"chatbot-data.json\"\n",
    "dic = {}\n",
    "twitter = Twitter()\n",
    "\n",
    "# 딕셔너리에 단어 등록하기 --- (※1)\n",
    "def register_dic(words):\n",
    "    global dic\n",
    "    if len(words) == 0: return\n",
    "    tmp = [\"@\"]\n",
    "    for i in words:\n",
    "        word = i[0]\n",
    "        if word == \"\" or word == \"\\r\\n\" or word == \"\\n\": continue\n",
    "        tmp.append(word)\n",
    "        if len(tmp) < 3: continue\n",
    "        if len(tmp) > 3: tmp = tmp[1:]\n",
    "        set_word3(dic, tmp)\n",
    "        if word == \".\" or word == \"?\":\n",
    "            tmp = [\"@\"]\n",
    "            continue\n",
    "    # 딕셔너리가 변경될 때마다 저장하기\n",
    "    json.dump(dic, open(dict_file,\"w\", encoding=\"utf-8\"))\n",
    "\n",
    "# 딕셔너리에 글 등록하기\n",
    "def set_word3(dic, s3):\n",
    "    w1, w2, w3 = s3\n",
    "    if not w1 in dic: dic[w1] = {}\n",
    "    if not w2 in dic[w1]: dic[w1][w2] = {}\n",
    "    if not w3 in dic[w1][w2]: dic[w1][w2][w3] = 0\n",
    "    dic[w1][w2][w3] += 1\n",
    "\n",
    "# 문장 만들기 --- (※2)\n",
    "def make_sentence(head):\n",
    "    if not head in dic: return \"\"\n",
    "    ret = []\n",
    "    if head != \"@\": ret.append(head)        \n",
    "    top = dic[head]\n",
    "    w1 = word_choice(top)\n",
    "    w2 = word_choice(top[w1])\n",
    "    ret.append(w1)\n",
    "    ret.append(w2)\n",
    "    while True:\n",
    "        if w1 in dic and w2 in dic[w1]:\n",
    "            w3 = word_choice(dic[w1][w2])\n",
    "        else:\n",
    "            w3 = \"\"\n",
    "        ret.append(w3)\n",
    "        if w3 == \".\" or w3 == \"？ \" or w3 == \"\": break\n",
    "        w1, w2 = w2, w3\n",
    "    ret = \"\".join(ret)\n",
    "    # 띄어쓰기\n",
    "    params = urllib.parse.urlencode({\n",
    "        \"_callback\": \"\",\n",
    "        \"q\": ret\n",
    "    })\n",
    "    # 네이버 맞춤법 검사기를 사용합니다.\n",
    "    data = urllib.request.urlopen(\"https://m.search.naver.com/p/csearch/ocontent/util/SpellerProxy?\" + params)\n",
    "    data = data.read().decode(\"utf-8\")[1:-2]\n",
    "    data = json.loads(data)\n",
    "    data = data[\"message\"][\"result\"][\"html\"]\n",
    "    data = soup = BeautifulSoup(data, \"html.parser\").getText()\n",
    "    # 리턴\n",
    "    return data\n",
    "\n",
    "def word_choice(sel):\n",
    "    keys = sel.keys()\n",
    "    return random.choice(list(keys))\n",
    "\n",
    "# 챗봇 응답 만들기 --- (※3)\n",
    "def make_reply(text):\n",
    "    # 단어 학습 시키기\n",
    "    if not text[-1] in [\".\", \"?\"]: text += \".\"\n",
    "    words = twitter.pos(text)\n",
    "    register_dic(words)\n",
    "    # 사전에 단어가 있다면 그것을 기반으로 문장 만들기\n",
    "    for word in words:\n",
    "        face = word[0]\n",
    "        if face in dic: return make_sentence(face)\n",
    "    return make_sentence(\"@\")\n",
    "\n",
    "# 딕셔너리가 있다면 읽어 들이기\n",
    "if os.path.exists(dict_file):\n",
    "    dic = json.load(open(dict_file,\"r\"))"
   ]
  }
 ],
 "metadata": {
  "kernelspec": {
   "display_name": "Python 3 (ipykernel)",
   "language": "python",
   "name": "python3"
  },
  "language_info": {
   "codemirror_mode": {
    "name": "ipython",
    "version": 3
   },
   "file_extension": ".py",
   "mimetype": "text/x-python",
   "name": "python",
   "nbconvert_exporter": "python",
   "pygments_lexer": "ipython3",
   "version": "3.8.7"
  }
 },
 "nbformat": 4,
 "nbformat_minor": 5
}
