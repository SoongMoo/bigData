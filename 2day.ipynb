{
 "cells": [
  {
   "cell_type": "code",
   "execution_count": 1,
   "id": "036e7f88",
   "metadata": {},
   "outputs": [
    {
     "data": {
      "text/html": [
       "<style>\n",
       "div.container { width:100% !important; }\n",
       "div.CodeMirror {font-family: Consolas; font-size: 35pt;}\n",
       "div.output { font-size: 16pt; font-weight: bold;}\n",
       "div.input { font-family: Consolas; font-size: 35pt;}\n",
       "div.prompt { min-width: 100px;}\n",
       "</style>\n"
      ],
      "text/plain": [
       "<IPython.core.display.HTML object>"
      ]
     },
     "metadata": {},
     "output_type": "display_data"
    }
   ],
   "source": [
    "from IPython.core.display import display, HTML\n",
    "display(HTML(\n",
    "\"\"\"<style>\n",
    "div.container { width:100% !important; }\n",
    "div.CodeMirror {font-family: Consolas; font-size: 35pt;}\n",
    "div.output { font-size: 16pt; font-weight: bold;}\n",
    "div.input { font-family: Consolas; font-size: 35pt;}\n",
    "div.prompt { min-width: 100px;}\n",
    "</style>\n",
    "\"\"\"))"
   ]
  },
  {
   "cell_type": "code",
   "execution_count": null,
   "id": "9f7cbbcb",
   "metadata": {},
   "outputs": [],
   "source": [
    "### 리터널 : 자연어 (한글, 영어, 일번 , 중국,..., 숫자)\n",
    "### 숫자 리터널(숫자 자료형):10, 1,2, 10.5,...\n",
    "### 문자열 리터널 : a(x, 변수),\"a\",'a','가',\"가\",\"1\"(문자),1(숫자)\n",
    "###                \"\"\"\"\"\", '''''' (개행문자 : \\n)"
   ]
  },
  {
   "cell_type": "code",
   "execution_count": 4,
   "id": "9265b981",
   "metadata": {},
   "outputs": [
    {
     "name": "stdout",
     "output_type": "stream",
     "text": [
      "\"Life is too short, \n",
      "You need python\n",
      "Life is too short, \n",
      "You need python\n"
     ]
    }
   ],
   "source": [
    "print(\"\"\"Life is too short, \n",
    "You need python\"\"\")\n",
    "print(\"Life is too short, \\nYou need python\")"
   ]
  },
  {
   "cell_type": "code",
   "execution_count": 5,
   "id": "8fb9d717",
   "metadata": {},
   "outputs": [
    {
     "name": "stdout",
     "output_type": "stream",
     "text": [
      "============================================================\n",
      "python is fun\n",
      "============================================================\n"
     ]
    }
   ],
   "source": [
    "## 숫자 리터널(숫자 자료형)에서 사용되는 연산자\n",
    "## +, -, *, /, %, //, **\n",
    "## 문자열 리터널(문자열 자료형)에서 사용되는 연산자\n",
    "## +(붙이기 연산자), *(반복 연산자)\n",
    "print(\"==\" * 30)\n",
    "print(\"python\" + \" \" + \"is fun\")\n",
    "print(\"==\" * 30)"
   ]
  },
  {
   "cell_type": "code",
   "execution_count": 8,
   "id": "0f9dd7b8",
   "metadata": {},
   "outputs": [
    {
     "name": "stdout",
     "output_type": "stream",
     "text": [
      "33\n",
      "n\n",
      "n\n",
      "n\n",
      "L\n",
      "L\n",
      "L\n"
     ]
    }
   ],
   "source": [
    "a = \"Life is too short, You need python\"\n",
    "##   0123456789012345678901234567890123\n",
    "##             1         2         3\n",
    "### index의 마지막 번호\n",
    "print(len(a) - 1)\n",
    "print(a[33])\n",
    "print(a[len(a)-1])\n",
    "print(a[-1])\n",
    "### 맨 앞글자\n",
    "print(a[0])\n",
    "print(a[-34])\n",
    "print(a[-len(a)])"
   ]
  },
  {
   "cell_type": "code",
   "execution_count": 59,
   "id": "631e899e",
   "metadata": {},
   "outputs": [
    {
     "name": "stdout",
     "output_type": "stream",
     "text": [
      "Life\n",
      "Life\n",
      "Life\n",
      "Life\n",
      "need\n",
      "need\n",
      "============================================================\n",
      "Life is too short, You need python\n",
      "Life\n",
      "Life\n",
      "python\n",
      "python\n",
      "Life is too short, You need python\n",
      "Lf stosot o edpto\n",
      "Lesosr ue tn\n",
      "nohtyp deen uoY ,trohs oot si efiL\n",
      "nohtyp\n",
      "python\n",
      "nohtyp\n"
     ]
    }
   ],
   "source": [
    "### Life를 출력하시오\n",
    "a = \"Life is too short, You need python\"\n",
    "#    01234\n",
    "#                   9876543210987654321-\n",
    "#                            1\n",
    "print(a[0]+a[1]+a[2]+a[3])\n",
    "## slicing\n",
    "print(a[0:0+4])\n",
    "print(a[0:4]) # 0부터 4가되기 전까지\n",
    "print(a[-34:4])\n",
    "## need를 출력하시오\n",
    "print(a[-11:-11+4])\n",
    "print(a[-11:-7]) # -11부터 -7전까지 \n",
    "print(\"==\" * 30)\n",
    "print(a)\n",
    "print(a[0:4])\n",
    "print(a[:4])\n",
    "print(a[28:34])\n",
    "print(a[28:])\n",
    "print(a[:])\n",
    "print(a[::2])\n",
    "print(a[::3])\n",
    "print(a[::-1])\n",
    "print(a[:27:-1])\n",
    "s = a[28:]\n",
    "print(s)\n",
    "print(s[::-1])"
   ]
  },
  {
   "cell_type": "code",
   "execution_count": 16,
   "id": "86d6ca3b",
   "metadata": {},
   "outputs": [
    {
     "name": "stdout",
     "output_type": "stream",
     "text": [
      "나의 이름은 이숭무이고 나이는 35이며 키는 170.500000입니다.\n",
      "나의 이름은 이숭무이고 나이는 35이며 키는 170.5입니다.\n",
      "나의 이름은        이숭무이고 나이는 35   이며 키는 170.5입니다.\n"
     ]
    }
   ],
   "source": [
    "## 포멧문자를 이용해서 출력\n",
    "name = '이숭무'\n",
    "age = 35\n",
    "height = 170.5\n",
    "print(\"나의 이름은 %s이고 나이는 %d이며 키는 %f입니다.\" % \\\n",
    "      (name, age, height))\n",
    "print(\"나의 이름은 %s이고 나이는 %d이며 키는 %.1f입니다.\" % \\\n",
    "      (name, age, height))\n",
    "print(\"나의 이름은 %10s이고 나이는 %-5d이며 키는 %.1f입니다.\" % \\\n",
    "      (name, age, height))"
   ]
  },
  {
   "cell_type": "code",
   "execution_count": 21,
   "id": "588357e6",
   "metadata": {},
   "outputs": [
    {
     "name": "stdout",
     "output_type": "stream",
     "text": [
      "나의 이름은 이숭무이고 나이는 35이며 키는 170.5이다.\n",
      "나의 이름은 이숭무이고 나이는 35이며 키는 170.5이다.\n",
      "나의 이름은 이숭무이고 블로그는 이숭무이다.\n",
      "나의 이름은 이숭무이고 나이는 35이며 키는 170.5이다.\n"
     ]
    }
   ],
   "source": [
    "## format함수 \n",
    "print(\"나의 이름은 {0}이고 나이는 {1}이며 키는 {2}이다.\"\\\n",
    "     .format(name, age, height))\n",
    "print(\"나의 이름은 {1}이고 나이는 {0}이며 키는 {2}이다.\"\\\n",
    "     .format(age, name,  height))\n",
    "print(\"나의 이름은 {0}이고 블로그는 {0}이다.\".format(name))\n",
    "print(\"나의 이름은 {1}이고 나이는 {0}이며 키는 {h}이다.\"\\\n",
    "     .format(age, name,  h=height))"
   ]
  },
  {
   "cell_type": "code",
   "execution_count": 22,
   "id": "fb9b08dd",
   "metadata": {},
   "outputs": [
    {
     "name": "stdout",
     "output_type": "stream",
     "text": [
      "나의 이름은 이숭무이고 나이는 35이며 키는 170.5이다\n"
     ]
    }
   ],
   "source": [
    "print(f\"나의 이름은 {name}이고 나이는 {age}이며 키는 {height}이다\")"
   ]
  },
  {
   "cell_type": "code",
   "execution_count": 37,
   "id": "e09735ed",
   "metadata": {},
   "outputs": [
    {
     "name": "stdout",
     "output_type": "stream",
     "text": [
      "hobby\n",
      "5\n",
      "5\n",
      "2\n",
      "1\n",
      "obb\n",
      "-1\n",
      "1\n",
      "obb\n"
     ]
    }
   ],
   "source": [
    "### 문자열 함수 : 문자열을 원하는 형태로 가공\n",
    "print(a)\n",
    "print(len(a)) # 크기를 반환하는 함수\n",
    "a = \"hobby\"\n",
    "print(len(a))\n",
    "# 변수 a에 'b'문자가 몇개가 있을까?\n",
    "b = a.count('b')\n",
    "print(b)\n",
    "### 원하는 문자가 있는 index를 가져 오기\n",
    "print(a.find('o'))\n",
    "c = a.find('o')\n",
    "print( a[c : c + 3])\n",
    "### 't'문자의 위치를 찾으시오.\n",
    "print(a.find('t')) # 없는 문자인 경우 -1을 가져온다.\n",
    "\n",
    "print(a.index('o'))\n",
    "c = a.index('o')\n",
    "print(a[c : c +3])\n",
    "# print(a.index('t')) : 없는 문자열인 경우 오류 발생"
   ]
  },
  {
   "cell_type": "code",
   "execution_count": 67,
   "id": "df5ef444",
   "metadata": {},
   "outputs": [
    {
     "name": "stdout",
     "output_type": "stream",
     "text": [
      "2\n",
      "10\n",
      "10\n",
      "17\n",
      "17\n"
     ]
    }
   ],
   "source": [
    "a = 'Python is the best choice'\n",
    "idx = a.index('t')\n",
    "print(idx)\n",
    "idx = a.find('t')\n",
    "## 9번index 다음에 있는 't'를 찾으시오\n",
    "idx = a.index('t', 9)\n",
    "print(idx)\n",
    "idx = a.find('t', 9)\n",
    "print(idx)\n",
    "### 뒤에 있는 't'를 찾으시오.\n",
    "idx = a.rfind('t')\n",
    "print(idx)\n",
    "idx = a.rindex('t')\n",
    "print(idx)"
   ]
  },
  {
   "cell_type": "code",
   "execution_count": 73,
   "id": "4e3b0449",
   "metadata": {},
   "outputs": [
    {
     "name": "stdout",
     "output_type": "stream",
     "text": [
      "Python is the best choice\n",
      "PYTHON IS THE BEST CHOICE\n",
      "Python is the best choice\n",
      "python is the best choice\n",
      "Python is the best choice\n"
     ]
    }
   ],
   "source": [
    "#### 소문자를 대문자로 \n",
    "print(a)\n",
    "print(a.upper())\n",
    "### 대문자를 소문자로\n",
    "print(a)\n",
    "print(a.lower())\n",
    "print(a)"
   ]
  },
  {
   "cell_type": "code",
   "execution_count": 81,
   "id": "febe6fce",
   "metadata": {},
   "outputs": [
    {
     "name": "stdout",
     "output_type": "stream",
     "text": [
      "      abcd\n",
      "abcd\n",
      "abcd     \n",
      "abcd\n",
      "    abcd     \n",
      "abcd\n",
      "    ab cd     \n",
      "ab cd\n",
      "a가나다라a\n",
      "가나다라\n",
      "ab가나다라ab\n",
      "가나다라\n"
     ]
    }
   ],
   "source": [
    "a = '      abcd'\n",
    "print(a)\n",
    "print(a.strip())\n",
    "a = 'abcd     '\n",
    "print(a)\n",
    "print(a.strip())\n",
    "a = '    abcd     '\n",
    "print(a)\n",
    "print(a.strip())\n",
    "a = '    ab cd     '\n",
    "print(a)\n",
    "print(a.strip())\n",
    "a = 'a가나다라a'\n",
    "print(a)\n",
    "print(a.strip('a')) ### 양옆에 있는 문자열을 제거\n",
    "a = 'ab가나다라ab'\n",
    "print(a)\n",
    "print(a.strip('ab'))"
   ]
  },
  {
   "cell_type": "code",
   "execution_count": 87,
   "id": "19180e52",
   "metadata": {},
   "outputs": [
    {
     "name": "stdout",
     "output_type": "stream",
     "text": [
      "Python/is/the/best/choice\n",
      "Python,is,the,best,choice\n",
      "Python is the best choice\n",
      "Life is too short\n",
      "Your leg is too short\n"
     ]
    }
   ],
   "source": [
    "##### 문자열 대체하기\n",
    "a = 'Python is the best choice'\n",
    "# 'Python/is/the/best/choice'\n",
    "print(a.replace(\" \",\"/\"))\n",
    "a = 'Python,is,the,best,choice'\n",
    "print(a)\n",
    "print(a.replace(\",\",\" \"))\n",
    "a = \"Life is too short\"\n",
    "print(a)\n",
    "### Life를 Your leg로 대체\n",
    "print(a.replace(\"Life\", \"Your leg\"))"
   ]
  },
  {
   "cell_type": "code",
   "execution_count": 91,
   "id": "994d8941",
   "metadata": {},
   "outputs": [
    {
     "name": "stdout",
     "output_type": "stream",
     "text": [
      "Life:is:too:short\n",
      "['Life:is:too:short']\n",
      "Life:is:too:short\n",
      "['Life', 'is', 'too', 'short']\n"
     ]
    }
   ],
   "source": [
    "# 문자열 잘라내기\n",
    "print(a)\n",
    "b = a.split() # 공백문자를 기준으로 잘라내기\n",
    "print(b) # ['Life', 'is', 'too', 'short']를 리스트\n",
    "a = \"Life:is:too:short\" \n",
    "print(a) \n",
    "b = a.split(\":\") ## 문자열을 split을 하게되면 리스트로 가져옴\n",
    "print(b)"
   ]
  },
  {
   "cell_type": "code",
   "execution_count": 114,
   "id": "43faa21e",
   "metadata": {},
   "outputs": [
    {
     "name": "stdout",
     "output_type": "stream",
     "text": [
      "0\n",
      "10\n",
      "10\n",
      "10\n",
      "10\n",
      "9\n",
      "9\n",
      "9\n",
      "9\n",
      " LIFE IS TOO SHORT \n",
      " life is too short \n",
      "Life is too short\n",
      " Life is too short\n",
      "Life is too short \n",
      " Your leg is too short \n",
      "True\n",
      "010-7146-1970\n",
      "False\n",
      "숫자만 있어야 합니다.\n",
      "True\n"
     ]
    }
   ],
   "source": [
    "### count 문자의 갯수\n",
    "print(a.count('b'))\n",
    "#  문자의  index를 가져오기\n",
    "print(a.index('o'))\n",
    "print(a.find('o'))\n",
    "print(a.index('o',10))\n",
    "print(a.find('o',10))\n",
    "print(a.find(\"too\")) # 문자열인 경우 맨 앞의 문자의 index를 가져옴\n",
    "print(a.index(\"too\"))\n",
    "print(a.rindex(\"too\"))\n",
    "print(a.rfind(\"too\"))\n",
    "###  대문자는 소문자로 , 소문자는 대문자로\n",
    "print(a.upper())\n",
    "print(a.lower())\n",
    "a = \" Life is too short \" \n",
    "print(a.strip())\n",
    "print(a.rstrip())\n",
    "print(a.lstrip())\n",
    "### 문자열 대체\n",
    "print(a.replace(\"Life\", \"Your leg\"))\n",
    "##############\n",
    "s = \"01071461970\"\n",
    "print(s.isdigit()) #### 문자가 모두 숫자인지 확인\n",
    "s = \"010-7146-1970\"\n",
    "print(s)\n",
    "print(s.isdigit())\n",
    "if s.isdigit():\n",
    "    print(\"숫자만 포함되어 있습니다.\")\n",
    "else:\n",
    "    print(\"숫자만 있어야 합니다.\")\n",
    "s = \"abcdef\"\n",
    "print(s.isalpha())"
   ]
  },
  {
   "cell_type": "code",
   "execution_count": 118,
   "id": "df7cb83e",
   "metadata": {},
   "outputs": [
    {
     "name": "stdout",
     "output_type": "stream",
     "text": [
      "False\n",
      "abcdef\n",
      "True\n",
      "ABCDEF\n"
     ]
    }
   ],
   "source": [
    "s = \"ABCDEF\"\n",
    "print(s.islower())\n",
    "if s.islower():\n",
    "    print(s)\n",
    "else:\n",
    "    print(s.lower())\n",
    "\n",
    "print(s.isupper())\n",
    "if s.isupper():\n",
    "    print(s)\n",
    "else:\n",
    "    print(s.upper())\n",
    "### isdigit, isalpha, islower, isupper"
   ]
  },
  {
   "cell_type": "code",
   "execution_count": 124,
   "id": "5ec7df1e",
   "metadata": {},
   "outputs": [
    {
     "name": "stdout",
     "output_type": "stream",
     "text": [
      "2\n",
      "[1, 2, 3, 4, 5]\n",
      "['Life', 'is', 'too', 'short']\n",
      "Life is too short\n",
      "['Life', 'is', 'too', 'short']\n"
     ]
    }
   ],
   "source": [
    "#### 자료형\n",
    "### 숫자 자료형 : 1,2,3, 10.5\n",
    "### 문자열 자료형 : \"\",'','''''',\"\"\"\"\"\", a(변수), \"1\", 1(숫자)\n",
    "# print(\"1\" + 1) #  문자와 숫자라 연산할 수 없다\n",
    "print(1 + 1)\n",
    "i = 10\n",
    "s = \"이숭무\"\n",
    "# 리스트 자료형 : 여러개의 데이터를 저장할 수 있는 자료형 : []\n",
    "a = 1 # 숫자 자료형\n",
    "a = \"1\" # 문자열 자료형\n",
    "a = [1] # 리스트 자료형\n",
    "a = [1,2,3,4,5] # 숫자 리스트\n",
    "print(a) \n",
    "s = ['Life', 'is' ,'too', 'short']# 문자열 리스트\n",
    "print(s)\n",
    "b = 'Life is too short'\n",
    "print(b)\n",
    "c = b.split() # 문자열을 split하면 리스트를 가져온다.\n",
    "print(c)"
   ]
  },
  {
   "cell_type": "code",
   "execution_count": 128,
   "id": "d61c3cf4",
   "metadata": {},
   "outputs": [
    {
     "name": "stdout",
     "output_type": "stream",
     "text": [
      "e\n",
      "4\n",
      "Life\n"
     ]
    }
   ],
   "source": [
    "b = 'Life is too short'\n",
    "#    0123456789 \n",
    "print(b[3])\n",
    "s = ['Life', 'is' ,'too', 'short']\n",
    "#       0      1     2       3\n",
    "# 리스트 안에 있는 데이터(자료)를 요소라고 한다.\n",
    "# 리스트 안에 있는 각 요소에는 고유의 번호인 index가 있다.\n",
    "# 리스트의 크기\n",
    "print(len(s)) ### 요소의 갯수가 4이므로 크기가 4이다.\n",
    "print(s[0]) # 리스트에 있는 첫번째 요소"
   ]
  },
  {
   "cell_type": "code",
   "execution_count": 134,
   "id": "2d99a236",
   "metadata": {},
   "outputs": [
    {
     "name": "stdout",
     "output_type": "stream",
     "text": [
      "[1, 2, 3, 4, 5]\n",
      "1\n",
      "2\n",
      "3\n",
      "['Life', 'is', 'too', 'short']\n",
      "Life\n",
      "is\n",
      "Life is\n",
      "LifeLifeLife\n"
     ]
    }
   ],
   "source": [
    "i = [1,2,3,4,5]\n",
    "print(i)\n",
    "print(i[0]) # 숫자\n",
    "print(i[1]) # 숫자\n",
    "print(i[0] + i[1])\n",
    "print(s)\n",
    "print(s[0]) # 문자열\n",
    "print(s[1]) # 문자열\n",
    "print(s[0] + \" \" + s[1])\n",
    "print(s[0] * 3)"
   ]
  },
  {
   "cell_type": "code",
   "execution_count": 140,
   "id": "11ba3c69",
   "metadata": {},
   "outputs": [
    {
     "name": "stdout",
     "output_type": "stream",
     "text": [
      "Life is too short\n",
      "['Life', 'is', 'too', 'short']\n",
      "Life\n",
      "['Life', 'is']\n",
      "Life\n",
      "['Life', 'is']\n",
      "Lf stosot\n",
      "['Life', 'too']\n",
      "short\n"
     ]
    }
   ],
   "source": [
    "b = 'Life is too short'\n",
    "###  0123456789\n",
    "s = ['Life', 'is' ,'too', 'short']\n",
    "###     0      1     2       3\n",
    "###     4     3      2       1 -\n",
    "print(b)\n",
    "print(s)\n",
    "print(b[0:4])\n",
    "print(s[0:2])\n",
    "print(b[:4])\n",
    "print(s[:2])\n",
    "print(b[::2])\n",
    "print(s[::2])\n",
    "print(s[-1])"
   ]
  },
  {
   "cell_type": "code",
   "execution_count": 142,
   "id": "389c1a40",
   "metadata": {},
   "outputs": [
    {
     "name": "stdout",
     "output_type": "stream",
     "text": [
      "abcdef\n",
      "abcabcabc\n",
      "[1, 2, 3, 4, 5, 6]\n",
      "[1, 2, 3, 1, 2, 3, 1, 2, 3]\n"
     ]
    }
   ],
   "source": [
    "### 리스트 연산자\n",
    "s = \"abc\"\n",
    "s1 = \"def\"\n",
    "print(s + s1)\n",
    "print(s * 3)\n",
    "l = [1,2,3]\n",
    "l1 = [4,5,6]\n",
    "print(l + l1)\n",
    "print(l * 3)"
   ]
  },
  {
   "cell_type": "code",
   "execution_count": 150,
   "id": "b101d512",
   "metadata": {},
   "outputs": [
    {
     "name": "stdout",
     "output_type": "stream",
     "text": [
      "i\n",
      "2\n",
      "[1, 10, 3, 4]\n",
      "[1, 3, 4]\n",
      "[1, 3, 4, 5]\n"
     ]
    }
   ],
   "source": [
    "s = 'pithon'\n",
    "print(s[1])\n",
    "#s[1] = 'y'\n",
    "l = [1,2,3,4]\n",
    "print(l[1])\n",
    "l[1] = 10\n",
    "print(l)\n",
    "### 요소번호를 이용해서 요소 지우기\n",
    "del l[1]\n",
    "print(l)"
   ]
  },
  {
   "cell_type": "code",
   "execution_count": 155,
   "id": "b0920628",
   "metadata": {},
   "outputs": [
    {
     "name": "stdout",
     "output_type": "stream",
     "text": [
      "[5, 4, 3, 2, 1, 5]\n",
      "[1, 2, 3, 4, 5]\n",
      "[5, 4, 3, 2, 1]\n",
      "[5, 1, 3, 4, 2]\n"
     ]
    }
   ],
   "source": [
    "### 리스트에서 사용하는 기본 함수\n",
    "### 리스트 뒤에 요소 추가 \n",
    "l.append(5)\n",
    "print(l)\n",
    "l = [2,4,3,1,5]\n",
    "l.sort() # 데이터가 변경 된다. 리스트의 요소를 정렬(오름차순)\n",
    "print(l)\n",
    "l.sort(reverse=True) # 리스트에 있는 요소를 역순으로 정렬(내림차순)\n",
    "print(l)\n",
    "l = [2,4,3,1,5] \n",
    "l.reverse() # 거꾸로 저장\n",
    "print(l)"
   ]
  },
  {
   "cell_type": "code",
   "execution_count": 162,
   "id": "656992fb",
   "metadata": {},
   "outputs": [
    {
     "name": "stdout",
     "output_type": "stream",
     "text": [
      "6\n",
      "6\n",
      "2\n"
     ]
    }
   ],
   "source": [
    "s = 'Life is too short'\n",
    "print(s.index('s'))\n",
    "print(s.find('s'))\n",
    "## print(s.index('y'))\n",
    "l = [2,4,3,1,5] \n",
    "print(l.index(3))\n",
    "### print(l.find(3))\n",
    "## print(l.index(6)) # 없는 데이터는 오류 발생"
   ]
  },
  {
   "cell_type": "code",
   "execution_count": 167,
   "id": "c7ace0aa",
   "metadata": {},
   "outputs": [
    {
     "name": "stdout",
     "output_type": "stream",
     "text": [
      "[1, 2, 3, 4, 5, 6]\n",
      "[1, 2, 3, 4, 5, 6, 7]\n",
      "[1, 2, 10, 3, 4, 5, 6, 7]\n",
      "[1, 2, 10, 3, 4, 20, 5, 6, 7]\n"
     ]
    }
   ],
   "source": [
    "l = [1,2,3,4,5]\n",
    "l.append(6)\n",
    "print(l)\n",
    "l.append(7) ### 마지막에 저장 \n",
    "print(l)\n",
    "### 원하는 위치에 요소를 저장\n",
    "l.insert(2, 10)\n",
    "print(l)\n",
    "l.insert(5, 20)\n",
    "print(l)"
   ]
  },
  {
   "cell_type": "code",
   "execution_count": 176,
   "id": "79333c9e",
   "metadata": {},
   "outputs": [
    {
     "name": "stdout",
     "output_type": "stream",
     "text": [
      "[1, 2, 10, 3, 4, 20, 5, 6, 7]\n",
      "[1, 2, 3, 4, 20, 5, 6, 7]\n",
      "[1, 2, 3, 4, 5, 6, 7]\n",
      "[1, 2, 4, 3, 4, 20, 5, 4, 7]\n",
      "[1, 2, 3, 4, 20, 5, 4, 7]\n",
      "[1, 2, 3, 20, 5, 7]\n",
      "3\n",
      "[1, 2, 3, 20, 5, 7]\n"
     ]
    }
   ],
   "source": [
    "l = [1, 2, 10, 3, 4, 20, 5, 6, 7]\n",
    "print(l)\n",
    "### index를 이용 \n",
    "del l[2]\n",
    "print(l)\n",
    "### 요소의 값을 이용해서 삭제\n",
    "l.remove(20)\n",
    "print(l)\n",
    "l = [1, 2, 4, 3, 4, 20, 5, 4, 7]\n",
    "print(l)\n",
    "l.remove(4) # 앞에 있는 요소만 지워 진다.\n",
    "print(l)\n",
    "l.remove(4)\n",
    "l.remove(4)\n",
    "print(l)\n",
    "l = [1, 2, 4, 3, 4, 20, 5, 4, 7]\n",
    "print(l.count(4))\n",
    "cnt = l.count(4)\n",
    "i = 1\n",
    "# while i <= cnt:\n",
    "#     l.remove(4)\n",
    "#     i = i + 1\n",
    "# print(l)"
   ]
  },
  {
   "cell_type": "code",
   "execution_count": 188,
   "id": "d9bbdfda",
   "metadata": {},
   "outputs": [
    {
     "name": "stdout",
     "output_type": "stream",
     "text": [
      "[1, 3, 20, 5, 7]\n",
      "[1, 3, 5, 7]\n",
      "[1, 3, 5]\n",
      "[1, 3]\n",
      "3\n",
      "[1]\n",
      "[1, 2, 3, 20, 5, 7]\n",
      "7\n",
      "[1, 2, 3, 20, 5]\n",
      "5\n",
      "[1, 2, 3, 20]\n",
      "[1, 2, 3]\n",
      "[1, 2, 20, 5, 7]\n",
      "[1, 2, 5, 7]\n"
     ]
    }
   ],
   "source": [
    "l = [1, 2, 3, 20, 5, 7]\n",
    "del l[1]\n",
    "print(l)\n",
    "l.remove(20)\n",
    "print(l)\n",
    "l.pop() #  뒤에서 부터 지워진다.\n",
    "print(l)\n",
    "l.pop()\n",
    "print(l)\n",
    "y = l.pop() # pop은 삭제한 데이터를 가지고 나옴\n",
    "print(y)\n",
    "print(l)\n",
    "l = [1, 2, 3, 20, 5, 7]\n",
    "print(l)\n",
    "y = l.pop()\n",
    "print(y)\n",
    "print(l)  # [1, 2, 3, 20, 5]\n",
    "y = l.pop()\n",
    "print(y) \n",
    "print(l)  # [1, 2, 3, 20]\n",
    "l.pop()\n",
    "print(l)  # [1, 2, 3]\n",
    "l = [1, 2, 3, 20, 5, 7]\n",
    "del l[2]\n",
    "print(l) # [1, 2, 20, 5, 7]\n",
    "l.pop(2) # index를 사용해서 요소 삭제\n",
    "print(l)"
   ]
  },
  {
   "cell_type": "code",
   "execution_count": 194,
   "id": "22e4138d",
   "metadata": {},
   "outputs": [
    {
     "name": "stdout",
     "output_type": "stream",
     "text": [
      "[1, 2, 3, 20, 5, 7, 10]\n",
      "[1, 2, 3, 10, 20, 5, 7, 10]\n",
      "[1, 2, 3, (10, 20), 10, 20, 5, 7, 10]\n",
      "[1, 2, 3, 20, 5, 7, 10, 20]\n"
     ]
    }
   ],
   "source": [
    "l = [1, 2, 3, 20, 5, 7]\n",
    "l.append(10)\n",
    "print(l)\n",
    "# l.append(11,12) #append로는 여러 요소를 한번에 저장할 수 없다.\n",
    "l.insert(3, 10)\n",
    "print(l)\n",
    "l.insert(3, (10,20))\n",
    "print(l)\n",
    "l = [1, 2, 3, 20, 5, 7]\n",
    "l.extend([10,20])\n",
    "print(l)"
   ]
  },
  {
   "cell_type": "code",
   "execution_count": 201,
   "id": "d420fa1a",
   "metadata": {},
   "outputs": [
    {
     "name": "stdout",
     "output_type": "stream",
     "text": [
      "[]\n",
      "[1]\n",
      "[1, 2]\n",
      "2\n",
      "Rhee\n",
      "[1, 2, 3, 4, [5, 6, 7, 8], 'Rhee']\n",
      "[5, 6, 7, 8]\n"
     ]
    }
   ],
   "source": [
    "l = [1,2,3,4]\n",
    "l.pop()\n",
    "l.pop()\n",
    "l.pop()\n",
    "l.pop()\n",
    "print(l)\n",
    "l = [] # 빈리스트\n",
    "l.append(1)\n",
    "print(l)\n",
    "l.append(2)\n",
    "print(l)\n",
    "l = [1,2,3,4]\n",
    "l = ['Life', 'is', 'too', 'short']\n",
    "l = [1,2,3,4,'Rhee', 'Soong', 'Moo', 5,6,7] # 혼합형리스트\n",
    "#    0 1 2 3   4        5       6    7 8 9\n",
    "print(l[1])\n",
    "print(l[4]) \n",
    "l = [1,2,3,4,[5,6,7,8], 'Rhee'] # 리스트를 포함하는 리스트\n",
    "#    0 1 2 3     4        5\n",
    "print(l)\n",
    "print(l[4])\n",
    "## 여러개 유형의 데이터를 여러개 저장"
   ]
  },
  {
   "cell_type": "code",
   "execution_count": 210,
   "id": "b5313ab3",
   "metadata": {},
   "outputs": [
    {
     "name": "stdout",
     "output_type": "stream",
     "text": [
      "Life\n",
      "L\n",
      "L\n",
      "============================================================\n",
      "short\n",
      "h\n",
      "ho\n",
      "============================================================\n",
      "['Life', 'is', 'too']\n",
      "1\n",
      "1\n"
     ]
    }
   ],
   "source": [
    "l = [\"Life\", \"is\", \"too\", \"short\"]\n",
    "#      0       1     2       3\n",
    "#     0123          012    01234\n",
    "print(l[0]) # Life\n",
    "#             0123\n",
    "print(\"Life\"[0])\n",
    "print(l[0][0])\n",
    "\n",
    "print(\"==\"*30)\n",
    "\n",
    "print(l[3]) # short\n",
    "print(l[3][1:3])\n",
    "print(\"short\"[1:3])\n",
    "\n",
    "print(\"==\"  * 30)\n",
    "\n",
    "print(l[0:3])\n",
    "\n",
    "l = [1,2,3,4]\n",
    "print(l[0])\n",
    "print([1,2,3,4][0])\n"
   ]
  },
  {
   "cell_type": "code",
   "execution_count": 218,
   "id": "f77be4e0",
   "metadata": {},
   "outputs": [
    {
     "name": "stdout",
     "output_type": "stream",
     "text": [
      "[5, 6, 7, 8]\n",
      "7\n",
      "[6, 7]\n",
      "[2, 3, 4, [5, 6, 7, 8]]\n",
      "Life is too short\n",
      "Life is\n",
      "too\n",
      "12\n"
     ]
    }
   ],
   "source": [
    "l = [1,2,3,4,[5,6,7,8],\"Life is too short\", 9, 10, [11,12,13]]\n",
    "#    0 1 2 3     4           5              6   7      8\n",
    "#                       0123456789...                0  1  2\n",
    "print(l[4])\n",
    "print(l[4][2])\n",
    "print(l[4][1:3])\n",
    "print(l[1:5])\n",
    "print(l[5])\n",
    "print(l[5][0:7])\n",
    "print(l[5][8:8+3])\n",
    "print(l[8][1])"
   ]
  },
  {
   "cell_type": "code",
   "execution_count": 222,
   "id": "aac6ca95",
   "metadata": {},
   "outputs": [
    {
     "name": "stdout",
     "output_type": "stream",
     "text": [
      "[4, 5, [6, 7, 8, 9], 10, 11]\n",
      "[6, 7, 8, 9]\n",
      "7\n",
      "[7, 8]\n"
     ]
    }
   ],
   "source": [
    "l = [1, 2 , 3 , [ 4 , 5 , [ 6 , 7 , 8 , 9 ] , 10 , 11 ],12,13]\n",
    "#    0  1   2                     3                      4  5\n",
    "#                 0   1           2           3    4\n",
    "#                           0   1   2   3\n",
    "print(l[3])\n",
    "print(l[3][2])\n",
    "print(l[3][2][1])\n",
    "print(l[3][2][1:3])"
   ]
  },
  {
   "cell_type": "code",
   "execution_count": 230,
   "id": "60e82505",
   "metadata": {},
   "outputs": [
    {
     "name": "stdout",
     "output_type": "stream",
     "text": [
      "['a', 'b', 'RheeSoongMoo', 'c', 'd']\n",
      "RheeSoongMoo\n",
      "['a', 'b', 'RheeSoongMoo', 'c', 'd']\n",
      "RheeSoongMoo\n",
      "RheeSoongMoo\n",
      "RheeSoongMoo\n",
      "Soong\n",
      "Soong\n"
     ]
    }
   ],
   "source": [
    "l = [1,2,3,  ['a','b','RheeSoongMoo','c','d']  ,4 , 5]\n",
    "#    0 1 2                   3                  4   5\n",
    "#              0   1         2        3    4\n",
    "#                      0123456789..\n",
    "print(l[3])\n",
    "print(l[3][2])\n",
    "c = l[3] # ['a', 'b', 'RheeSoongMoo', 'c', 'd']\n",
    "print(c)\n",
    "print(c[2])\n",
    "print(l[3][2])\n",
    "d = l[3][2] # RheeSoongMoo\n",
    "print(d)\n",
    "print(d[4:9])\n",
    "print(l[3][2][4:9])"
   ]
  },
  {
   "cell_type": "code",
   "execution_count": 231,
   "id": "72649ce4",
   "metadata": {},
   "outputs": [
    {
     "name": "stdout",
     "output_type": "stream",
     "text": [
      "2\n",
      "[2, 3, 4]\n"
     ]
    }
   ],
   "source": [
    "l = [1,2,3,4,5]\n",
    "print(l[1])\n",
    "print(l[1:4])"
   ]
  },
  {
   "cell_type": "code",
   "execution_count": 241,
   "id": "757e6774",
   "metadata": {},
   "outputs": [
    {
     "name": "stdout",
     "output_type": "stream",
     "text": [
      "3\n",
      "4\n",
      "aaaa\n",
      "4\n",
      "aaaa\n",
      "4\n",
      "bbbbb\n",
      "5\n",
      "5\n",
      "9\n"
     ]
    }
   ],
   "source": [
    "l = [1,2,3]\n",
    "print(len(l)) # 3\n",
    "s = \"abcd\"\n",
    "print(len(s)) # 4\n",
    "l1 = [\"aaaa\", \"bbbbb\", \"cccccc\"]\n",
    "c =  l1[0] # \"aaaa\"\n",
    "print(c) # \"aaaa\"\n",
    "print(len(c)) # 4\n",
    "print(l1[0]) # \"aaaa\"\n",
    "print(len(l1[0])) # 4\n",
    "d = l1[1]\n",
    "print(d) # \"bbbbb\"\n",
    "print(len(d)) # 5\n",
    "print(len(l1[1])) # 5\n",
    "print(len(l1[0]) + len(l1[1])) # 4 + 5 = 9"
   ]
  },
  {
   "cell_type": "code",
   "execution_count": 245,
   "id": "eeb53a88",
   "metadata": {},
   "outputs": [
    {
     "name": "stdout",
     "output_type": "stream",
     "text": [
      "['a', 'b', 'c', [4, 5, 6], 'd', 'e']\n",
      "c\n",
      "[4, 5, 6]\n",
      "5\n"
     ]
    }
   ],
   "source": [
    "l=[1,2,3,['a','b','c',[4,5,6],'d','e'],[7,8,9,[10,11],12],13]\n",
    "#  0 1 2                 3                       4         5\n",
    "#          0   1   2     3     4   5    0 1 2    3     4\n",
    "print(l[3]) # ['a', 'b', 'c', [4, 5, 6], 'd', 'e']\n",
    "#               0    1    2       3       4    5\n",
    "print(l[3][2]) # c\n",
    "print(l[3][3]) # [4, 5, 6]\n",
    "#                 0  1  2\n",
    "print(l[3][3][1]) # 5"
   ]
  },
  {
   "cell_type": "code",
   "execution_count": 246,
   "id": "14995400",
   "metadata": {},
   "outputs": [
    {
     "name": "stdout",
     "output_type": "stream",
     "text": [
      "2\n",
      "11\n",
      "[1, 1]\n"
     ]
    }
   ],
   "source": [
    "##자료형 \n",
    "# 숫자 자료형 : 1, 2, 10, 2.5\n",
    "# 문자열 자료형 : a(변수) , 'a',\"\", '', \"\"\"\"\"\", ''''''\n",
    "#                1(숫자), '1'(문자)\n",
    "# 리스트 자료형 : [1,2,3]\n",
    "# 튜플 자료형 : (1,2,3)\n",
    "print( 1 + 1) # 숫자 자료형\n",
    "print(\"1\" + \"1\") # 문자열 자료형\n",
    "print([1] + [1]) # 리스트 자료형\n",
    "l = [] # 빈 리스트"
   ]
  },
  {
   "cell_type": "code",
   "execution_count": 251,
   "id": "bbd73c88",
   "metadata": {},
   "outputs": [
    {
     "name": "stdout",
     "output_type": "stream",
     "text": [
      "4\n",
      "6\n",
      "1\n",
      "============================================================\n",
      "1\n",
      "(1,)\n",
      "[1]\n",
      "(1, 2, 3, 4, 5)\n"
     ]
    }
   ],
   "source": [
    "l = [1,2,3,4] # 리스트\n",
    "print(1 + 1 *3)\n",
    "print((1 + 1) *3)\n",
    "print((1))\n",
    "print(\"==\" * 30)\n",
    "t = (1) # 최우선 연산자\n",
    "print(t) # print((1))\n",
    "t = (1,) # 튜플 자료형인 경우 요소가 한개이면 ','가 있어야 한다.\n",
    "print(t)\n",
    "l = [1]\n",
    "print(l)\n",
    "t = (1,2,3,4,5)\n",
    "print(t)"
   ]
  },
  {
   "cell_type": "code",
   "execution_count": 255,
   "id": "6bd190f5",
   "metadata": {},
   "outputs": [
    {
     "name": "stdout",
     "output_type": "stream",
     "text": [
      "3\n",
      "[2, 3, 4]\n",
      "3\n",
      "(2, 3, 4)\n"
     ]
    }
   ],
   "source": [
    "l = [1,2,3,4,5]\n",
    "#    0 1 2 3 4\n",
    "print(l[2])\n",
    "print(l[1:4])\n",
    "t = (1,2,3,4,5)\n",
    "#    0 1 2 3 4\n",
    "print(t[2])\n",
    "print(t[1:4])"
   ]
  },
  {
   "cell_type": "code",
   "execution_count": 3,
   "id": "7be38e88",
   "metadata": {},
   "outputs": [
    {
     "name": "stdout",
     "output_type": "stream",
     "text": [
      "[1, 3, 4, 5]\n",
      "(1, 2, 3, 4)\n",
      "[4, 5]\n",
      "[1, 2, 3, 4, 5]\n",
      "2\n",
      "2\n"
     ]
    }
   ],
   "source": [
    "t = (1,2,3,4,[1,3,4,5],6,(1,2,3,4))\n",
    "#    0 1 2 3     4     5     6\n",
    "print(t[4])\n",
    "print(t[6])\n",
    "print(t[4][2:4])\n",
    "l = [1, 2, 3, 4, 5]\n",
    "print(l)\n",
    "print(l.index(3))\n",
    "print(t.index(3))"
   ]
  },
  {
   "cell_type": "code",
   "execution_count": 271,
   "id": "a1f0d563",
   "metadata": {},
   "outputs": [
    {
     "name": "stdout",
     "output_type": "stream",
     "text": [
      "[1, 2, 3, 4]\n",
      "(1, 2, 3, 4)\n",
      "3\n",
      "[1, 2, 10, 4]\n",
      "3\n",
      "(1, 2, 3, 4)\n",
      "[1, 2, 4]\n"
     ]
    }
   ],
   "source": [
    "l = [1,2,3,4]\n",
    "t = (1,2,3,4)\n",
    "print(l)\n",
    "print(t)\n",
    "print(l[2])\n",
    "l[2] = 10 #### 리스트에 있는 요소의 값은 변경할 수 있다.\n",
    "print(l)\n",
    "print(t[2])\n",
    "'''\n",
    "t[2] = 10 ### 튜플은 요소의 값을 변경할 수 없다.\n",
    "print(t)\n",
    "'''\n",
    "print(t)\n",
    "del l[2]\n",
    "print(l)\n",
    "# del t[2] "
   ]
  },
  {
   "cell_type": "code",
   "execution_count": null,
   "id": "6cafb711",
   "metadata": {},
   "outputs": [],
   "source": [
    "t = () # 빈 튜플\n",
    "t1 = (1,) #  요소가 하나인 튜플\n",
    "t2 = (1,2,3,4) # 정수형 튜플\n",
    "t3 = ('a','b','c') # 문자열 튜플\n",
    "t4 = (1,2,3,'a','b','c',4,5) # 혼합형 튜플\n",
    "t5 = (1,2,3,4,[5,6,7],(8,9,10),'a','b')"
   ]
  },
  {
   "cell_type": "code",
   "execution_count": 304,
   "id": "31e7ef49",
   "metadata": {},
   "outputs": [
    {
     "name": "stdout",
     "output_type": "stream",
     "text": [
      "나의 이름은 이숭무이고 나이는 35이며 키는 170.500000이다\n",
      "나의 이름은 이숭무이고 나이는 35이며 키는 170.500000이다\n"
     ]
    }
   ],
   "source": [
    "name = '이숭무'\n",
    "age = 35\n",
    "height = 170.5\n",
    "print(\"나의 이름은 %s이고 나이는 %d이며 키는 %f이다\" % \\\n",
    "      (name,age,height))\n",
    "print(\"나의 이름은 %s이고 나이는 %d이며 키는 %f이다\" % \\\n",
    "      ('이숭무',35, 170.5))\n",
    "# ('이숭무',35, 170.5)는 튜플 자료형이다."
   ]
  },
  {
   "cell_type": "code",
   "execution_count": 278,
   "id": "aa199e55",
   "metadata": {},
   "outputs": [
    {
     "name": "stdout",
     "output_type": "stream",
     "text": [
      "('abcde', 'fghijk', 'aaaa')\n",
      "fghijk\n",
      "hi\n",
      "('abcde', 'fghijk', 'aaaa')\n",
      "('abcde', 'fghijk')\n",
      "[1, 2, 3]\n"
     ]
    }
   ],
   "source": [
    "t = (1,2,3,('abcde','fghijk','aaaa'),[1,2,3])\n",
    "#    0 1 2          3                   4\n",
    "# \n",
    "print(t[3]) # ('abcde', 'fghijk', 'aaaa')\n",
    "#                 0         1        2\n",
    "print(t[3][1]) # 'fghijk'\n",
    "#                 012345\n",
    "print(t[3][1][2:4]) # hi\n",
    "print(t[3]) # ('abcde', 'fghijk', 'aaaa')\n",
    "#                 0        1        2\n",
    "print(t[3][0:2]) #('abcde', 'fghijk')\n",
    "print(t[4])"
   ]
  },
  {
   "cell_type": "code",
   "execution_count": 279,
   "id": "efb8feaa",
   "metadata": {},
   "outputs": [
    {
     "name": "stdout",
     "output_type": "stream",
     "text": [
      "1\n"
     ]
    }
   ],
   "source": [
    "# 숫자, 문자열, 리스트 : [], 튜플 : ()\n",
    "# 딕셔너리 (사전) : {단어 : 뜻} ==> {키: 값}\n",
    "# {키1:값1, 키2:값2, 키3:값3,...}\n",
    "# 딕셔너리는 키와 값을 쌍으로 묶은 데이터이다.\n",
    "i = 1\n",
    "s = '1'\n",
    "l = [1]\n",
    "t = (1,)\n",
    "dic = {'a':1}\n",
    "print(dic['a']) # dic[키] , 딕셔너리는 index를 사용하지 않는다."
   ]
  },
  {
   "cell_type": "code",
   "execution_count": 283,
   "id": "949ba2d0",
   "metadata": {},
   "outputs": [
    {
     "name": "stdout",
     "output_type": "stream",
     "text": [
      "{'name': '이숭무', 'phone': '01071461970', 'birth': '1118'}\n",
      "이숭무\n",
      "01071461970\n",
      "1118\n"
     ]
    }
   ],
   "source": [
    "dic = {'name':'이숭무', 'phone':'01071461970', \n",
    "       'birth': '1118'}\n",
    "print(dic)\n",
    "print(dic['name'])\n",
    "print(dic['phone'])\n",
    "print(dic['birth'])"
   ]
  },
  {
   "cell_type": "code",
   "execution_count": 287,
   "id": "99e0c8dd",
   "metadata": {},
   "outputs": [
    {
     "name": "stdout",
     "output_type": "stream",
     "text": [
      "숭\n",
      "{1: '이', 0: 35, 3: 10}\n"
     ]
    }
   ],
   "source": [
    "dic = { 1: '이', 0 : '숭' , 3: 10}\n",
    "print(dic[0])\n",
    "dic[0] = 35\n",
    "print(dic)"
   ]
  },
  {
   "cell_type": "code",
   "execution_count": 292,
   "id": "7ad7f8be",
   "metadata": {},
   "outputs": [
    {
     "name": "stdout",
     "output_type": "stream",
     "text": [
      "1\n",
      "{1: '이', 2: [1, 2, 4], 3: (1, 2, 3)}\n",
      "이\n",
      "[1, 2, 4]\n",
      "2\n",
      "(1, 2, 3)\n"
     ]
    }
   ],
   "source": [
    "# dic = { 1:'이', '나이' : 35, 2 : '숭' , [1] : '무' }\n",
    "# 키는 리터널 자료형만 키로 사용할 수 있다.\n",
    "dic = {1: 1, 2: 2, 3: 3}\n",
    "print(dic[1])\n",
    "dic[1] = '이'\n",
    "dic[2] = [1,2,4]\n",
    "dic[3] = (1,2,3)\n",
    "print(dic)\n",
    "print(dic[1])\n",
    "print(dic[2]) # [1, 2, 4]\n",
    "#                0  1  2\n",
    "print(dic[2][1])\n",
    "print(dic[3]) # (1, 2, 3)"
   ]
  },
  {
   "cell_type": "code",
   "execution_count": 296,
   "id": "5f13d1b9",
   "metadata": {},
   "outputs": [
    {
     "name": "stdout",
     "output_type": "stream",
     "text": [
      "{1: 'b'}\n",
      "b\n",
      "{1: '이'}\n",
      "{1: '이', 2: '숭', 3: '무'}\n"
     ]
    }
   ],
   "source": [
    "dic = {1: 'a', 1: 'b'} # 키는 오로지 유일해야 한다.\n",
    "                       # 중복키가 있는 경우 마지막 값을 갖는다.\n",
    "print(dic)\n",
    "print(dic[1])\n",
    "dic[1] ='이'\n",
    "print(dic)\n",
    "dic[2] = '숭'\n",
    "dic[3] = '무'\n",
    "print(dic) # 키가 있으면 값이 수정되고 키가 없으면 추가한다."
   ]
  },
  {
   "cell_type": "code",
   "execution_count": 303,
   "id": "758ee528",
   "metadata": {},
   "outputs": [
    {
     "name": "stdout",
     "output_type": "stream",
     "text": [
      "{}\n",
      "{'name': '이숭무', 'phone': '01071461970', 'birth': '19991015'}\n",
      "19991015\n",
      "1999\n",
      "10\n",
      "15\n"
     ]
    }
   ],
   "source": [
    "dic = {}\n",
    "print(dic)\n",
    "dic['name'] = '이숭무'\n",
    "dic['phone'] = '01071461970'\n",
    "dic['birth'] = '19991015'\n",
    "print(dic)\n",
    "### 문제 : 생년월일에서 년만 가져오시오\n",
    "print(dic['birth']) # 19991015\n",
    "#                     01234567\n",
    "#                     87654321-\n",
    "print(dic['birth'][:4])\n",
    "# 월과 일을 출력하시오\n",
    "print(dic['birth'][4:6])\n",
    "print(dic['birth'][-2:])"
   ]
  }
 ],
 "metadata": {
  "kernelspec": {
   "display_name": "Python 3 (ipykernel)",
   "language": "python",
   "name": "python3"
  },
  "language_info": {
   "codemirror_mode": {
    "name": "ipython",
    "version": 3
   },
   "file_extension": ".py",
   "mimetype": "text/x-python",
   "name": "python",
   "nbconvert_exporter": "python",
   "pygments_lexer": "ipython3",
   "version": "3.8.12"
  }
 },
 "nbformat": 4,
 "nbformat_minor": 5
}
